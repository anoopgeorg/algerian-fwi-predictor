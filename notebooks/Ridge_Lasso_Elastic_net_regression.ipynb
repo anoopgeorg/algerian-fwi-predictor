{
 "cells": [
  {
   "cell_type": "markdown",
   "id": "22622bad-77ab-4408-b614-7f10d14e077b",
   "metadata": {},
   "source": [
    "# Implementation of Linear, Ridge, Lasso and Elastic Net Regression"
   ]
  },
  {
   "cell_type": "markdown",
   "id": "3db9cc4f-cdcb-45b6-950d-4681c6c9a711",
   "metadata": {},
   "source": [
    "This dataset has been cleaned previously during the EDA phase\n",
    "\n",
    "#### Additional Information\n",
    "\n",
    "The dataset includes 244 instances that regroup a data of two regions of Algeria,namely the Bejaia region located in the northeast of Algeria and the Sidi Bel-abbes region located in the northwest of Algeria.\n",
    "<br>\n",
    "122 instances for each region. \n",
    "<br>\n",
    "The period from June 2012 to September 2012. \n",
    "The dataset includes 11 attribues and 1 output attribue (class)\n",
    "The 244 instances have been classified into \"fire\" (138 classes) and \"not fire\" (106 classes) classes.\n",
    "\n",
    "#### Attribute Information:\n",
    "1. Date : (DD/MM/YYYY) Day, month ('june' to 'september'), year (2012)\n",
    "Weather data observations \n",
    "2. Temp : temperature noon (temperature max)  in Celsius degrees: 22 to 42\n",
    "3. RH : Relative Humidity in %: 21 to 90 \n",
    "4. Ws :Wind speed in km/h: 6 to 29 \n",
    "5. Rain: total day in mm: 0 to 16.8\n",
    "FWI Components  \n",
    "6. Fine Fuel Moisture Code (FFMC) index from the FWI system: 28.6 to 92.5 \n",
    "7. Duff Moisture Code (DMC) index from the FWI system: 1.1 to 65.9 \n",
    "8. Drought Code (DC) index from the FWI system:  7 to 220.4\n",
    "9. Initial Spread Index (ISI) index from the FWI system: 0 to 18.5 \n",
    "10. Buildup Index (BUI) index from the FWI system: 1.1 to 68\n",
    "11. Fire Weather Index (FWI) Index: 0 to 31.1\n",
    "12. Classes: two classfire and not_fire€œnot Fireâ€"
   ]
  },
  {
   "cell_type": "code",
   "execution_count": 1,
   "id": "ad181ee8-0516-4925-8f1a-19db45da63b3",
   "metadata": {},
   "outputs": [],
   "source": [
    "import pandas as pd\n",
    "import numpy as np\n",
    "import matplotlib.pyplot as plt\n",
    "import seaborn as sns \n",
    "from sklearn.preprocessing import StandardScaler,OneHotEncoder\n",
    "from sklearn.model_selection import train_test_split\n",
    "from sklearn.linear_model import LinearRegression,Ridge,Lasso,ElasticNet,LassoCV,RidgeCV,ElasticNetCV\n",
    "from sklearn.metrics import mean_absolute_error,mean_squared_error,r2_score\n",
    "%matplotlib inline"
   ]
  },
  {
   "cell_type": "code",
   "execution_count": 2,
   "id": "5c463181-76c5-4153-a97e-0d0f7712881f",
   "metadata": {},
   "outputs": [],
   "source": [
    "df = pd.read_csv('/mnt/c/Users/ANOOP/Desktop/Python/datasets/Algerian_forest_fires_cleaned.csv')"
   ]
  },
  {
   "cell_type": "code",
   "execution_count": 3,
   "id": "cdabc5e9-55a6-4c91-adef-66ee8aa6d1b5",
   "metadata": {},
   "outputs": [
    {
     "data": {
      "text/html": [
       "<div>\n",
       "<style scoped>\n",
       "    .dataframe tbody tr th:only-of-type {\n",
       "        vertical-align: middle;\n",
       "    }\n",
       "\n",
       "    .dataframe tbody tr th {\n",
       "        vertical-align: top;\n",
       "    }\n",
       "\n",
       "    .dataframe thead th {\n",
       "        text-align: right;\n",
       "    }\n",
       "</style>\n",
       "<table border=\"1\" class=\"dataframe\">\n",
       "  <thead>\n",
       "    <tr style=\"text-align: right;\">\n",
       "      <th></th>\n",
       "      <th>day</th>\n",
       "      <th>month</th>\n",
       "      <th>year</th>\n",
       "      <th>Temperature</th>\n",
       "      <th>RH</th>\n",
       "      <th>Ws</th>\n",
       "      <th>Rain</th>\n",
       "      <th>FFMC</th>\n",
       "      <th>DMC</th>\n",
       "      <th>DC</th>\n",
       "      <th>ISI</th>\n",
       "      <th>BUI</th>\n",
       "      <th>FWI</th>\n",
       "      <th>Classes</th>\n",
       "      <th>Region</th>\n",
       "    </tr>\n",
       "  </thead>\n",
       "  <tbody>\n",
       "    <tr>\n",
       "      <th>0</th>\n",
       "      <td>1</td>\n",
       "      <td>6</td>\n",
       "      <td>2012</td>\n",
       "      <td>29.0</td>\n",
       "      <td>57.0</td>\n",
       "      <td>18.0</td>\n",
       "      <td>0.0</td>\n",
       "      <td>65.7</td>\n",
       "      <td>3.4</td>\n",
       "      <td>7.6</td>\n",
       "      <td>1.3</td>\n",
       "      <td>3.4</td>\n",
       "      <td>0.5</td>\n",
       "      <td>not fire</td>\n",
       "      <td>Bejaia</td>\n",
       "    </tr>\n",
       "    <tr>\n",
       "      <th>1</th>\n",
       "      <td>2</td>\n",
       "      <td>6</td>\n",
       "      <td>2012</td>\n",
       "      <td>29.0</td>\n",
       "      <td>61.0</td>\n",
       "      <td>13.0</td>\n",
       "      <td>1.3</td>\n",
       "      <td>64.4</td>\n",
       "      <td>4.1</td>\n",
       "      <td>7.6</td>\n",
       "      <td>1.0</td>\n",
       "      <td>3.9</td>\n",
       "      <td>0.4</td>\n",
       "      <td>not fire</td>\n",
       "      <td>Bejaia</td>\n",
       "    </tr>\n",
       "    <tr>\n",
       "      <th>2</th>\n",
       "      <td>3</td>\n",
       "      <td>6</td>\n",
       "      <td>2012</td>\n",
       "      <td>26.0</td>\n",
       "      <td>82.0</td>\n",
       "      <td>22.0</td>\n",
       "      <td>13.1</td>\n",
       "      <td>47.1</td>\n",
       "      <td>2.5</td>\n",
       "      <td>7.1</td>\n",
       "      <td>0.3</td>\n",
       "      <td>2.7</td>\n",
       "      <td>0.1</td>\n",
       "      <td>not fire</td>\n",
       "      <td>Bejaia</td>\n",
       "    </tr>\n",
       "  </tbody>\n",
       "</table>\n",
       "</div>"
      ],
      "text/plain": [
       "   day  month  year  Temperature    RH    Ws  Rain  FFMC  DMC   DC  ISI  BUI  \\\n",
       "0    1      6  2012         29.0  57.0  18.0   0.0  65.7  3.4  7.6  1.3  3.4   \n",
       "1    2      6  2012         29.0  61.0  13.0   1.3  64.4  4.1  7.6  1.0  3.9   \n",
       "2    3      6  2012         26.0  82.0  22.0  13.1  47.1  2.5  7.1  0.3  2.7   \n",
       "\n",
       "   FWI   Classes  Region  \n",
       "0  0.5  not fire  Bejaia  \n",
       "1  0.4  not fire  Bejaia  \n",
       "2  0.1  not fire  Bejaia  "
      ]
     },
     "execution_count": 3,
     "metadata": {},
     "output_type": "execute_result"
    }
   ],
   "source": [
    "df.head(3)"
   ]
  },
  {
   "cell_type": "markdown",
   "id": "23f282c0-a1ac-423b-93e4-556793b44e9f",
   "metadata": {},
   "source": [
    "#### Problem statement : Use the above data to predict the FWI"
   ]
  },
  {
   "cell_type": "code",
   "execution_count": 4,
   "id": "d9a5c353-c0f9-43ab-a25b-c902bb73f280",
   "metadata": {},
   "outputs": [
    {
     "name": "stdout",
     "output_type": "stream",
     "text": [
      "<class 'pandas.core.frame.DataFrame'>\n",
      "RangeIndex: 243 entries, 0 to 242\n",
      "Data columns (total 15 columns):\n",
      " #   Column       Non-Null Count  Dtype  \n",
      "---  ------       --------------  -----  \n",
      " 0   day          243 non-null    int64  \n",
      " 1   month        243 non-null    int64  \n",
      " 2   year         243 non-null    int64  \n",
      " 3   Temperature  243 non-null    float64\n",
      " 4   RH           243 non-null    float64\n",
      " 5   Ws           243 non-null    float64\n",
      " 6   Rain         243 non-null    float64\n",
      " 7   FFMC         243 non-null    float64\n",
      " 8   DMC          243 non-null    float64\n",
      " 9   DC           243 non-null    float64\n",
      " 10  ISI          243 non-null    float64\n",
      " 11  BUI          243 non-null    float64\n",
      " 12  FWI          243 non-null    float64\n",
      " 13  Classes      243 non-null    object \n",
      " 14  Region       243 non-null    object \n",
      "dtypes: float64(10), int64(3), object(2)\n",
      "memory usage: 28.6+ KB\n"
     ]
    }
   ],
   "source": [
    "df.info()"
   ]
  },
  {
   "cell_type": "code",
   "execution_count": 5,
   "id": "42979739-8e93-4d55-b856-5fa112aae948",
   "metadata": {},
   "outputs": [],
   "source": [
    "df_mod = df.copy()"
   ]
  },
  {
   "cell_type": "markdown",
   "id": "aa402332-70e2-4488-af8f-c0437e1e8ab2",
   "metadata": {},
   "source": [
    "#### One-Hot Encoding the categorical variables"
   ]
  },
  {
   "cell_type": "code",
   "execution_count": 6,
   "id": "e2760f45-be54-4840-85ad-7c450281b46e",
   "metadata": {},
   "outputs": [],
   "source": [
    "encoder = OneHotEncoder()"
   ]
  },
  {
   "cell_type": "code",
   "execution_count": 7,
   "id": "47e24748-1c28-4b32-b91e-00f0c250930f",
   "metadata": {},
   "outputs": [
    {
     "name": "stdout",
     "output_type": "stream",
     "text": [
      "All:\n",
      "{'Rain', 'DMC', 'day', 'month', 'FFMC', 'ISI', 'Classes', 'DC', 'Region', 'RH', 'Ws', 'FWI', 'BUI', 'Temperature', 'year'}\n",
      "Numeric:\n",
      "{'Rain', 'DMC', 'day', 'month', 'FFMC', 'ISI', 'DC', 'RH', 'Ws', 'FWI', 'BUI', 'Temperature', 'year'}\n",
      "Categorical:\n",
      "{'Classes', 'Region'}\n"
     ]
    }
   ],
   "source": [
    "numerical_col = set(df_mod._get_numeric_data())\n",
    "all_col = set(df_mod.columns)\n",
    "categorical_col = set(all_col - numerical_col)\n",
    "print(f\"All:\\n{all_col}\\nNumeric:\\n{numerical_col}\\nCategorical:\\n{categorical_col}\")"
   ]
  },
  {
   "cell_type": "code",
   "execution_count": 8,
   "id": "2667cb36-3e95-469c-acf3-611040e1048e",
   "metadata": {},
   "outputs": [
    {
     "data": {
      "text/html": [
       "<style>#sk-container-id-1 {color: black;}#sk-container-id-1 pre{padding: 0;}#sk-container-id-1 div.sk-toggleable {background-color: white;}#sk-container-id-1 label.sk-toggleable__label {cursor: pointer;display: block;width: 100%;margin-bottom: 0;padding: 0.3em;box-sizing: border-box;text-align: center;}#sk-container-id-1 label.sk-toggleable__label-arrow:before {content: \"▸\";float: left;margin-right: 0.25em;color: #696969;}#sk-container-id-1 label.sk-toggleable__label-arrow:hover:before {color: black;}#sk-container-id-1 div.sk-estimator:hover label.sk-toggleable__label-arrow:before {color: black;}#sk-container-id-1 div.sk-toggleable__content {max-height: 0;max-width: 0;overflow: hidden;text-align: left;background-color: #f0f8ff;}#sk-container-id-1 div.sk-toggleable__content pre {margin: 0.2em;color: black;border-radius: 0.25em;background-color: #f0f8ff;}#sk-container-id-1 input.sk-toggleable__control:checked~div.sk-toggleable__content {max-height: 200px;max-width: 100%;overflow: auto;}#sk-container-id-1 input.sk-toggleable__control:checked~label.sk-toggleable__label-arrow:before {content: \"▾\";}#sk-container-id-1 div.sk-estimator input.sk-toggleable__control:checked~label.sk-toggleable__label {background-color: #d4ebff;}#sk-container-id-1 div.sk-label input.sk-toggleable__control:checked~label.sk-toggleable__label {background-color: #d4ebff;}#sk-container-id-1 input.sk-hidden--visually {border: 0;clip: rect(1px 1px 1px 1px);clip: rect(1px, 1px, 1px, 1px);height: 1px;margin: -1px;overflow: hidden;padding: 0;position: absolute;width: 1px;}#sk-container-id-1 div.sk-estimator {font-family: monospace;background-color: #f0f8ff;border: 1px dotted black;border-radius: 0.25em;box-sizing: border-box;margin-bottom: 0.5em;}#sk-container-id-1 div.sk-estimator:hover {background-color: #d4ebff;}#sk-container-id-1 div.sk-parallel-item::after {content: \"\";width: 100%;border-bottom: 1px solid gray;flex-grow: 1;}#sk-container-id-1 div.sk-label:hover label.sk-toggleable__label {background-color: #d4ebff;}#sk-container-id-1 div.sk-serial::before {content: \"\";position: absolute;border-left: 1px solid gray;box-sizing: border-box;top: 0;bottom: 0;left: 50%;z-index: 0;}#sk-container-id-1 div.sk-serial {display: flex;flex-direction: column;align-items: center;background-color: white;padding-right: 0.2em;padding-left: 0.2em;position: relative;}#sk-container-id-1 div.sk-item {position: relative;z-index: 1;}#sk-container-id-1 div.sk-parallel {display: flex;align-items: stretch;justify-content: center;background-color: white;position: relative;}#sk-container-id-1 div.sk-item::before, #sk-container-id-1 div.sk-parallel-item::before {content: \"\";position: absolute;border-left: 1px solid gray;box-sizing: border-box;top: 0;bottom: 0;left: 50%;z-index: -1;}#sk-container-id-1 div.sk-parallel-item {display: flex;flex-direction: column;z-index: 1;position: relative;background-color: white;}#sk-container-id-1 div.sk-parallel-item:first-child::after {align-self: flex-end;width: 50%;}#sk-container-id-1 div.sk-parallel-item:last-child::after {align-self: flex-start;width: 50%;}#sk-container-id-1 div.sk-parallel-item:only-child::after {width: 0;}#sk-container-id-1 div.sk-dashed-wrapped {border: 1px dashed gray;margin: 0 0.4em 0.5em 0.4em;box-sizing: border-box;padding-bottom: 0.4em;background-color: white;}#sk-container-id-1 div.sk-label label {font-family: monospace;font-weight: bold;display: inline-block;line-height: 1.2em;}#sk-container-id-1 div.sk-label-container {text-align: center;}#sk-container-id-1 div.sk-container {/* jupyter's `normalize.less` sets `[hidden] { display: none; }` but bootstrap.min.css set `[hidden] { display: none !important; }` so we also need the `!important` here to be able to override the default hidden behavior on the sphinx rendered scikit-learn.org. See: https://github.com/scikit-learn/scikit-learn/issues/21755 */display: inline-block !important;position: relative;}#sk-container-id-1 div.sk-text-repr-fallback {display: none;}</style><div id=\"sk-container-id-1\" class=\"sk-top-container\"><div class=\"sk-text-repr-fallback\"><pre>OneHotEncoder()</pre><b>In a Jupyter environment, please rerun this cell to show the HTML representation or trust the notebook. <br />On GitHub, the HTML representation is unable to render, please try loading this page with nbviewer.org.</b></div><div class=\"sk-container\" hidden><div class=\"sk-item\"><div class=\"sk-estimator sk-toggleable\"><input class=\"sk-toggleable__control sk-hidden--visually\" id=\"sk-estimator-id-1\" type=\"checkbox\" checked><label for=\"sk-estimator-id-1\" class=\"sk-toggleable__label sk-toggleable__label-arrow\">OneHotEncoder</label><div class=\"sk-toggleable__content\"><pre>OneHotEncoder()</pre></div></div></div></div></div>"
      ],
      "text/plain": [
       "OneHotEncoder()"
      ]
     },
     "execution_count": 8,
     "metadata": {},
     "output_type": "execute_result"
    }
   ],
   "source": [
    "encoder.fit(df_mod[list(categorical_col)])"
   ]
  },
  {
   "cell_type": "code",
   "execution_count": 9,
   "id": "09b46817-237d-4ae7-a8fc-b4d485823483",
   "metadata": {},
   "outputs": [],
   "source": [
    "df_mod[encoder.get_feature_names_out()] = encoder.transform(df_mod[list(categorical_col)]).toarray()"
   ]
  },
  {
   "cell_type": "code",
   "execution_count": 10,
   "id": "72224e96-6e86-4b99-b1a1-aa86835ae93f",
   "metadata": {},
   "outputs": [
    {
     "data": {
      "text/html": [
       "<div>\n",
       "<style scoped>\n",
       "    .dataframe tbody tr th:only-of-type {\n",
       "        vertical-align: middle;\n",
       "    }\n",
       "\n",
       "    .dataframe tbody tr th {\n",
       "        vertical-align: top;\n",
       "    }\n",
       "\n",
       "    .dataframe thead th {\n",
       "        text-align: right;\n",
       "    }\n",
       "</style>\n",
       "<table border=\"1\" class=\"dataframe\">\n",
       "  <thead>\n",
       "    <tr style=\"text-align: right;\">\n",
       "      <th></th>\n",
       "      <th>day</th>\n",
       "      <th>month</th>\n",
       "      <th>year</th>\n",
       "      <th>Temperature</th>\n",
       "      <th>RH</th>\n",
       "      <th>Ws</th>\n",
       "      <th>Rain</th>\n",
       "      <th>FFMC</th>\n",
       "      <th>DMC</th>\n",
       "      <th>DC</th>\n",
       "      <th>ISI</th>\n",
       "      <th>BUI</th>\n",
       "      <th>FWI</th>\n",
       "      <th>Classes</th>\n",
       "      <th>Region</th>\n",
       "      <th>Classes_fire</th>\n",
       "      <th>Classes_not fire</th>\n",
       "      <th>Region_Bejaia</th>\n",
       "      <th>Region_Sidi-Bel Abbes</th>\n",
       "    </tr>\n",
       "  </thead>\n",
       "  <tbody>\n",
       "    <tr>\n",
       "      <th>0</th>\n",
       "      <td>1</td>\n",
       "      <td>6</td>\n",
       "      <td>2012</td>\n",
       "      <td>29.0</td>\n",
       "      <td>57.0</td>\n",
       "      <td>18.0</td>\n",
       "      <td>0.0</td>\n",
       "      <td>65.7</td>\n",
       "      <td>3.4</td>\n",
       "      <td>7.6</td>\n",
       "      <td>1.3</td>\n",
       "      <td>3.4</td>\n",
       "      <td>0.5</td>\n",
       "      <td>not fire</td>\n",
       "      <td>Bejaia</td>\n",
       "      <td>0.0</td>\n",
       "      <td>1.0</td>\n",
       "      <td>1.0</td>\n",
       "      <td>0.0</td>\n",
       "    </tr>\n",
       "    <tr>\n",
       "      <th>1</th>\n",
       "      <td>2</td>\n",
       "      <td>6</td>\n",
       "      <td>2012</td>\n",
       "      <td>29.0</td>\n",
       "      <td>61.0</td>\n",
       "      <td>13.0</td>\n",
       "      <td>1.3</td>\n",
       "      <td>64.4</td>\n",
       "      <td>4.1</td>\n",
       "      <td>7.6</td>\n",
       "      <td>1.0</td>\n",
       "      <td>3.9</td>\n",
       "      <td>0.4</td>\n",
       "      <td>not fire</td>\n",
       "      <td>Bejaia</td>\n",
       "      <td>0.0</td>\n",
       "      <td>1.0</td>\n",
       "      <td>1.0</td>\n",
       "      <td>0.0</td>\n",
       "    </tr>\n",
       "  </tbody>\n",
       "</table>\n",
       "</div>"
      ],
      "text/plain": [
       "   day  month  year  Temperature    RH    Ws  Rain  FFMC  DMC   DC  ISI  BUI  \\\n",
       "0    1      6  2012         29.0  57.0  18.0   0.0  65.7  3.4  7.6  1.3  3.4   \n",
       "1    2      6  2012         29.0  61.0  13.0   1.3  64.4  4.1  7.6  1.0  3.9   \n",
       "\n",
       "   FWI   Classes  Region  Classes_fire  Classes_not fire  Region_Bejaia  \\\n",
       "0  0.5  not fire  Bejaia           0.0               1.0            1.0   \n",
       "1  0.4  not fire  Bejaia           0.0               1.0            1.0   \n",
       "\n",
       "   Region_Sidi-Bel Abbes  \n",
       "0                    0.0  \n",
       "1                    0.0  "
      ]
     },
     "execution_count": 10,
     "metadata": {},
     "output_type": "execute_result"
    }
   ],
   "source": [
    "df_mod.head(2)"
   ]
  },
  {
   "cell_type": "code",
   "execution_count": 11,
   "id": "982e25aa-b055-4bba-b17a-2fbaf5d1b296",
   "metadata": {},
   "outputs": [
    {
     "data": {
      "text/plain": [
       "['Classes', 'Region']"
      ]
     },
     "execution_count": 11,
     "metadata": {},
     "output_type": "execute_result"
    }
   ],
   "source": [
    "# As we have converted the categorical featucres to numeric one-hot encoding we can drop them\n",
    "droplist = list(categorical_col)\n",
    "droplist"
   ]
  },
  {
   "cell_type": "code",
   "execution_count": 12,
   "id": "e59a64f7-2314-4b48-919f-803e56063295",
   "metadata": {},
   "outputs": [
    {
     "name": "stdout",
     "output_type": "stream",
     "text": [
      "<class 'pandas.core.frame.DataFrame'>\n",
      "RangeIndex: 243 entries, 0 to 242\n",
      "Data columns (total 19 columns):\n",
      " #   Column                 Non-Null Count  Dtype  \n",
      "---  ------                 --------------  -----  \n",
      " 0   day                    243 non-null    int64  \n",
      " 1   month                  243 non-null    int64  \n",
      " 2   year                   243 non-null    int64  \n",
      " 3   Temperature            243 non-null    float64\n",
      " 4   RH                     243 non-null    float64\n",
      " 5   Ws                     243 non-null    float64\n",
      " 6   Rain                   243 non-null    float64\n",
      " 7   FFMC                   243 non-null    float64\n",
      " 8   DMC                    243 non-null    float64\n",
      " 9   DC                     243 non-null    float64\n",
      " 10  ISI                    243 non-null    float64\n",
      " 11  BUI                    243 non-null    float64\n",
      " 12  FWI                    243 non-null    float64\n",
      " 13  Classes                243 non-null    object \n",
      " 14  Region                 243 non-null    object \n",
      " 15  Classes_fire           243 non-null    float64\n",
      " 16  Classes_not fire       243 non-null    float64\n",
      " 17  Region_Bejaia          243 non-null    float64\n",
      " 18  Region_Sidi-Bel Abbes  243 non-null    float64\n",
      "dtypes: float64(14), int64(3), object(2)\n",
      "memory usage: 36.2+ KB\n"
     ]
    }
   ],
   "source": [
    "df_mod.info()"
   ]
  },
  {
   "cell_type": "code",
   "execution_count": 13,
   "id": "711d832a-0e28-45c9-a87e-e3f45bbe0f23",
   "metadata": {},
   "outputs": [
    {
     "data": {
      "text/plain": [
       "['Classes', 'Region', 'day', 'year']"
      ]
     },
     "execution_count": 13,
     "metadata": {},
     "output_type": "execute_result"
    }
   ],
   "source": [
    "# We can drop day and year as it is not significant to temerature prediction\n",
    "# The month feature is retained as there could be relevant to seasonal temperature\n",
    "droplist.extend(['day', 'year'])\n",
    "droplist"
   ]
  },
  {
   "cell_type": "code",
   "execution_count": 14,
   "id": "812b610c-1fa2-42be-b8c7-d4b1089e889c",
   "metadata": {},
   "outputs": [],
   "source": [
    "df_mod = df_mod.drop(droplist,axis=1)"
   ]
  },
  {
   "cell_type": "code",
   "execution_count": 15,
   "id": "dd289715-302b-43b0-87e4-44cd56658ecd",
   "metadata": {},
   "outputs": [
    {
     "data": {
      "text/plain": [
       "<Axes: >"
      ]
     },
     "execution_count": 15,
     "metadata": {},
     "output_type": "execute_result"
    },
    {
     "data": {
      "image/png": "[encoded data removed]",
      "text/plain": [
       "<Figure size 1800x1500 with 2 Axes>"
      ]
     },
     "metadata": {},
     "output_type": "display_data"
    }
   ],
   "source": [
    "# Check correlation of the features\n",
    "plt.figure(figsize=(18,15))\n",
    "sns.heatmap(df_mod.corr(),annot=True)"
   ]
  },
  {
   "cell_type": "code",
   "execution_count": 16,
   "id": "c5580963-2807-446d-b1dd-e4c73353ff04",
   "metadata": {},
   "outputs": [],
   "source": [
    "df_mod = df_mod.drop('month',axis=1)\n",
    "droplist.append('month')"
   ]
  },
  {
   "cell_type": "code",
   "execution_count": 17,
   "id": "2c52293a-c90a-4991-b08f-1d894148f8ed",
   "metadata": {},
   "outputs": [],
   "source": [
    "corr_df = df_mod.corr()\n"
   ]
  },
  {
   "cell_type": "code",
   "execution_count": 18,
   "id": "0cec862e-da24-4691-a658-9385b10bd0bf",
   "metadata": {},
   "outputs": [
    {
     "data": {
      "text/html": [
       "<div>\n",
       "<style scoped>\n",
       "    .dataframe tbody tr th:only-of-type {\n",
       "        vertical-align: middle;\n",
       "    }\n",
       "\n",
       "    .dataframe tbody tr th {\n",
       "        vertical-align: top;\n",
       "    }\n",
       "\n",
       "    .dataframe thead th {\n",
       "        text-align: right;\n",
       "    }\n",
       "</style>\n",
       "<table border=\"1\" class=\"dataframe\">\n",
       "  <thead>\n",
       "    <tr style=\"text-align: right;\">\n",
       "      <th></th>\n",
       "      <th>Temperature</th>\n",
       "      <th>RH</th>\n",
       "      <th>Ws</th>\n",
       "      <th>Rain</th>\n",
       "      <th>FFMC</th>\n",
       "      <th>DMC</th>\n",
       "      <th>DC</th>\n",
       "      <th>ISI</th>\n",
       "      <th>BUI</th>\n",
       "      <th>FWI</th>\n",
       "      <th>Classes_fire</th>\n",
       "      <th>Classes_not fire</th>\n",
       "      <th>Region_Bejaia</th>\n",
       "      <th>Region_Sidi-Bel Abbes</th>\n",
       "    </tr>\n",
       "  </thead>\n",
       "  <tbody>\n",
       "    <tr>\n",
       "      <th>Temperature</th>\n",
       "      <td>1.000000</td>\n",
       "      <td>-0.651400</td>\n",
       "      <td>-0.284510</td>\n",
       "      <td>-0.326492</td>\n",
       "      <td>0.676568</td>\n",
       "      <td>0.485687</td>\n",
       "      <td>0.376284</td>\n",
       "      <td>0.603871</td>\n",
       "      <td>0.459789</td>\n",
       "      <td>0.566670</td>\n",
       "      <td>0.516015</td>\n",
       "      <td>-0.516015</td>\n",
       "      <td>-0.269555</td>\n",
       "      <td>0.269555</td>\n",
       "    </tr>\n",
       "    <tr>\n",
       "      <th>RH</th>\n",
       "      <td>-0.651400</td>\n",
       "      <td>1.000000</td>\n",
       "      <td>0.244048</td>\n",
       "      <td>0.222356</td>\n",
       "      <td>-0.644873</td>\n",
       "      <td>-0.408519</td>\n",
       "      <td>-0.226941</td>\n",
       "      <td>-0.686667</td>\n",
       "      <td>-0.353841</td>\n",
       "      <td>-0.580957</td>\n",
       "      <td>-0.432161</td>\n",
       "      <td>0.432161</td>\n",
       "      <td>0.402682</td>\n",
       "      <td>-0.402682</td>\n",
       "    </tr>\n",
       "    <tr>\n",
       "      <th>Ws</th>\n",
       "      <td>-0.284510</td>\n",
       "      <td>0.244048</td>\n",
       "      <td>1.000000</td>\n",
       "      <td>0.171506</td>\n",
       "      <td>-0.166548</td>\n",
       "      <td>-0.000721</td>\n",
       "      <td>0.079135</td>\n",
       "      <td>0.008532</td>\n",
       "      <td>0.031438</td>\n",
       "      <td>0.032368</td>\n",
       "      <td>-0.069964</td>\n",
       "      <td>0.069964</td>\n",
       "      <td>0.181160</td>\n",
       "      <td>-0.181160</td>\n",
       "    </tr>\n",
       "    <tr>\n",
       "      <th>Rain</th>\n",
       "      <td>-0.326492</td>\n",
       "      <td>0.222356</td>\n",
       "      <td>0.171506</td>\n",
       "      <td>1.000000</td>\n",
       "      <td>-0.543906</td>\n",
       "      <td>-0.288773</td>\n",
       "      <td>-0.298023</td>\n",
       "      <td>-0.347484</td>\n",
       "      <td>-0.299852</td>\n",
       "      <td>-0.324422</td>\n",
       "      <td>-0.379097</td>\n",
       "      <td>0.379097</td>\n",
       "      <td>0.040013</td>\n",
       "      <td>-0.040013</td>\n",
       "    </tr>\n",
       "    <tr>\n",
       "      <th>FFMC</th>\n",
       "      <td>0.676568</td>\n",
       "      <td>-0.644873</td>\n",
       "      <td>-0.166548</td>\n",
       "      <td>-0.543906</td>\n",
       "      <td>1.000000</td>\n",
       "      <td>0.603608</td>\n",
       "      <td>0.507397</td>\n",
       "      <td>0.740007</td>\n",
       "      <td>0.592011</td>\n",
       "      <td>0.691132</td>\n",
       "      <td>0.769492</td>\n",
       "      <td>-0.769492</td>\n",
       "      <td>-0.222241</td>\n",
       "      <td>0.222241</td>\n",
       "    </tr>\n",
       "    <tr>\n",
       "      <th>DMC</th>\n",
       "      <td>0.485687</td>\n",
       "      <td>-0.408519</td>\n",
       "      <td>-0.000721</td>\n",
       "      <td>-0.288773</td>\n",
       "      <td>0.603608</td>\n",
       "      <td>1.000000</td>\n",
       "      <td>0.875925</td>\n",
       "      <td>0.680454</td>\n",
       "      <td>0.982248</td>\n",
       "      <td>0.875864</td>\n",
       "      <td>0.585658</td>\n",
       "      <td>-0.585658</td>\n",
       "      <td>-0.192089</td>\n",
       "      <td>0.192089</td>\n",
       "    </tr>\n",
       "    <tr>\n",
       "      <th>DC</th>\n",
       "      <td>0.376284</td>\n",
       "      <td>-0.226941</td>\n",
       "      <td>0.079135</td>\n",
       "      <td>-0.298023</td>\n",
       "      <td>0.507397</td>\n",
       "      <td>0.875925</td>\n",
       "      <td>1.000000</td>\n",
       "      <td>0.508643</td>\n",
       "      <td>0.941988</td>\n",
       "      <td>0.739521</td>\n",
       "      <td>0.511123</td>\n",
       "      <td>-0.511123</td>\n",
       "      <td>0.078734</td>\n",
       "      <td>-0.078734</td>\n",
       "    </tr>\n",
       "    <tr>\n",
       "      <th>ISI</th>\n",
       "      <td>0.603871</td>\n",
       "      <td>-0.686667</td>\n",
       "      <td>0.008532</td>\n",
       "      <td>-0.347484</td>\n",
       "      <td>0.740007</td>\n",
       "      <td>0.680454</td>\n",
       "      <td>0.508643</td>\n",
       "      <td>1.000000</td>\n",
       "      <td>0.644093</td>\n",
       "      <td>0.922895</td>\n",
       "      <td>0.735197</td>\n",
       "      <td>-0.735197</td>\n",
       "      <td>-0.263197</td>\n",
       "      <td>0.263197</td>\n",
       "    </tr>\n",
       "    <tr>\n",
       "      <th>BUI</th>\n",
       "      <td>0.459789</td>\n",
       "      <td>-0.353841</td>\n",
       "      <td>0.031438</td>\n",
       "      <td>-0.299852</td>\n",
       "      <td>0.592011</td>\n",
       "      <td>0.982248</td>\n",
       "      <td>0.941988</td>\n",
       "      <td>0.644093</td>\n",
       "      <td>1.000000</td>\n",
       "      <td>0.857973</td>\n",
       "      <td>0.586639</td>\n",
       "      <td>-0.586639</td>\n",
       "      <td>-0.089408</td>\n",
       "      <td>0.089408</td>\n",
       "    </tr>\n",
       "    <tr>\n",
       "      <th>FWI</th>\n",
       "      <td>0.566670</td>\n",
       "      <td>-0.580957</td>\n",
       "      <td>0.032368</td>\n",
       "      <td>-0.324422</td>\n",
       "      <td>0.691132</td>\n",
       "      <td>0.875864</td>\n",
       "      <td>0.739521</td>\n",
       "      <td>0.922895</td>\n",
       "      <td>0.857973</td>\n",
       "      <td>1.000000</td>\n",
       "      <td>0.719216</td>\n",
       "      <td>-0.719216</td>\n",
       "      <td>-0.197102</td>\n",
       "      <td>0.197102</td>\n",
       "    </tr>\n",
       "    <tr>\n",
       "      <th>Classes_fire</th>\n",
       "      <td>0.516015</td>\n",
       "      <td>-0.432161</td>\n",
       "      <td>-0.069964</td>\n",
       "      <td>-0.379097</td>\n",
       "      <td>0.769492</td>\n",
       "      <td>0.585658</td>\n",
       "      <td>0.511123</td>\n",
       "      <td>0.735197</td>\n",
       "      <td>0.586639</td>\n",
       "      <td>0.719216</td>\n",
       "      <td>1.000000</td>\n",
       "      <td>-1.000000</td>\n",
       "      <td>-0.162347</td>\n",
       "      <td>0.162347</td>\n",
       "    </tr>\n",
       "    <tr>\n",
       "      <th>Classes_not fire</th>\n",
       "      <td>-0.516015</td>\n",
       "      <td>0.432161</td>\n",
       "      <td>0.069964</td>\n",
       "      <td>0.379097</td>\n",
       "      <td>-0.769492</td>\n",
       "      <td>-0.585658</td>\n",
       "      <td>-0.511123</td>\n",
       "      <td>-0.735197</td>\n",
       "      <td>-0.586639</td>\n",
       "      <td>-0.719216</td>\n",
       "      <td>-1.000000</td>\n",
       "      <td>1.000000</td>\n",
       "      <td>0.162347</td>\n",
       "      <td>-0.162347</td>\n",
       "    </tr>\n",
       "    <tr>\n",
       "      <th>Region_Bejaia</th>\n",
       "      <td>-0.269555</td>\n",
       "      <td>0.402682</td>\n",
       "      <td>0.181160</td>\n",
       "      <td>0.040013</td>\n",
       "      <td>-0.222241</td>\n",
       "      <td>-0.192089</td>\n",
       "      <td>0.078734</td>\n",
       "      <td>-0.263197</td>\n",
       "      <td>-0.089408</td>\n",
       "      <td>-0.197102</td>\n",
       "      <td>-0.162347</td>\n",
       "      <td>0.162347</td>\n",
       "      <td>1.000000</td>\n",
       "      <td>-1.000000</td>\n",
       "    </tr>\n",
       "    <tr>\n",
       "      <th>Region_Sidi-Bel Abbes</th>\n",
       "      <td>0.269555</td>\n",
       "      <td>-0.402682</td>\n",
       "      <td>-0.181160</td>\n",
       "      <td>-0.040013</td>\n",
       "      <td>0.222241</td>\n",
       "      <td>0.192089</td>\n",
       "      <td>-0.078734</td>\n",
       "      <td>0.263197</td>\n",
       "      <td>0.089408</td>\n",
       "      <td>0.197102</td>\n",
       "      <td>0.162347</td>\n",
       "      <td>-0.162347</td>\n",
       "      <td>-1.000000</td>\n",
       "      <td>1.000000</td>\n",
       "    </tr>\n",
       "  </tbody>\n",
       "</table>\n",
       "</div>"
      ],
      "text/plain": [
       "                       Temperature        RH        Ws      Rain      FFMC  \\\n",
       "Temperature               1.000000 -0.651400 -0.284510 -0.326492  0.676568   \n",
       "RH                       -0.651400  1.000000  0.244048  0.222356 -0.644873   \n",
       "Ws                       -0.284510  0.244048  1.000000  0.171506 -0.166548   \n",
       "Rain                     -0.326492  0.222356  0.171506  1.000000 -0.543906   \n",
       "FFMC                      0.676568 -0.644873 -0.166548 -0.543906  1.000000   \n",
       "DMC                       0.485687 -0.408519 -0.000721 -0.288773  0.603608   \n",
       "DC                        0.376284 -0.226941  0.079135 -0.298023  0.507397   \n",
       "ISI                       0.603871 -0.686667  0.008532 -0.347484  0.740007   \n",
       "BUI                       0.459789 -0.353841  0.031438 -0.299852  0.592011   \n",
       "FWI                       0.566670 -0.580957  0.032368 -0.324422  0.691132   \n",
       "Classes_fire              0.516015 -0.432161 -0.069964 -0.379097  0.769492   \n",
       "Classes_not fire         -0.516015  0.432161  0.069964  0.379097 -0.769492   \n",
       "Region_Bejaia            -0.269555  0.402682  0.181160  0.040013 -0.222241   \n",
       "Region_Sidi-Bel Abbes     0.269555 -0.402682 -0.181160 -0.040013  0.222241   \n",
       "\n",
       "                            DMC        DC       ISI       BUI       FWI  \\\n",
       "Temperature            0.485687  0.376284  0.603871  0.459789  0.566670   \n",
       "RH                    -0.408519 -0.226941 -0.686667 -0.353841 -0.580957   \n",
       "Ws                    -0.000721  0.079135  0.008532  0.031438  0.032368   \n",
       "Rain                  -0.288773 -0.298023 -0.347484 -0.299852 -0.324422   \n",
       "FFMC                   0.603608  0.507397  0.740007  0.592011  0.691132   \n",
       "DMC                    1.000000  0.875925  0.680454  0.982248  0.875864   \n",
       "DC                     0.875925  1.000000  0.508643  0.941988  0.739521   \n",
       "ISI                    0.680454  0.508643  1.000000  0.644093  0.922895   \n",
       "BUI                    0.982248  0.941988  0.644093  1.000000  0.857973   \n",
       "FWI                    0.875864  0.739521  0.922895  0.857973  1.000000   \n",
       "Classes_fire           0.585658  0.511123  0.735197  0.586639  0.719216   \n",
       "Classes_not fire      -0.585658 -0.511123 -0.735197 -0.586639 -0.719216   \n",
       "Region_Bejaia         -0.192089  0.078734 -0.263197 -0.089408 -0.197102   \n",
       "Region_Sidi-Bel Abbes  0.192089 -0.078734  0.263197  0.089408  0.197102   \n",
       "\n",
       "                       Classes_fire  Classes_not fire  Region_Bejaia  \\\n",
       "Temperature                0.516015         -0.516015      -0.269555   \n",
       "RH                        -0.432161          0.432161       0.402682   \n",
       "Ws                        -0.069964          0.069964       0.181160   \n",
       "Rain                      -0.379097          0.379097       0.040013   \n",
       "FFMC                       0.769492         -0.769492      -0.222241   \n",
       "DMC                        0.585658         -0.585658      -0.192089   \n",
       "DC                         0.511123         -0.511123       0.078734   \n",
       "ISI                        0.735197         -0.735197      -0.263197   \n",
       "BUI                        0.586639         -0.586639      -0.089408   \n",
       "FWI                        0.719216         -0.719216      -0.197102   \n",
       "Classes_fire               1.000000         -1.000000      -0.162347   \n",
       "Classes_not fire          -1.000000          1.000000       0.162347   \n",
       "Region_Bejaia             -0.162347          0.162347       1.000000   \n",
       "Region_Sidi-Bel Abbes      0.162347         -0.162347      -1.000000   \n",
       "\n",
       "                       Region_Sidi-Bel Abbes  \n",
       "Temperature                         0.269555  \n",
       "RH                                 -0.402682  \n",
       "Ws                                 -0.181160  \n",
       "Rain                               -0.040013  \n",
       "FFMC                                0.222241  \n",
       "DMC                                 0.192089  \n",
       "DC                                 -0.078734  \n",
       "ISI                                 0.263197  \n",
       "BUI                                 0.089408  \n",
       "FWI                                 0.197102  \n",
       "Classes_fire                        0.162347  \n",
       "Classes_not fire                   -0.162347  \n",
       "Region_Bejaia                      -1.000000  \n",
       "Region_Sidi-Bel Abbes               1.000000  "
      ]
     },
     "execution_count": 18,
     "metadata": {},
     "output_type": "execute_result"
    }
   ],
   "source": [
    "df_mod.corr()"
   ]
  },
  {
   "cell_type": "code",
   "execution_count": 19,
   "id": "5fb98912-1bf0-4631-9b9e-4db4dab57d29",
   "metadata": {},
   "outputs": [],
   "source": [
    "def correlation(cor_mat,threshold):\n",
    "    related_col = {}\n",
    "    corr_threshold = cor_mat[abs(cor_mat)> threshold]\n",
    "    for col in corr_threshold.columns:\n",
    "        #print(f'Col:{col}\\n')\n",
    "        list_rel = {}\n",
    "        for index,value in enumerate(corr_threshold[col]):\n",
    "            if value > 0 and value != 1:\n",
    "                #print(f'row:{index},value:{value}\\n')\n",
    "                name = corr_threshold.index[index]\n",
    "                list_rel[name] = value\n",
    "        if len(list_rel) != 0:\n",
    "            related_col[col] = list_rel\n",
    "    return related_col"
   ]
  },
  {
   "cell_type": "code",
   "execution_count": 20,
   "id": "7bfef249-2a42-4f37-85d3-7094be71dd11",
   "metadata": {},
   "outputs": [],
   "source": [
    "rel_feat = correlation(corr_df,0.85)"
   ]
  },
  {
   "cell_type": "code",
   "execution_count": 21,
   "id": "efc47a85-e843-46e1-a0a1-1945d2d2ec26",
   "metadata": {},
   "outputs": [
    {
     "name": "stdout",
     "output_type": "stream",
     "text": [
      "DMC\n",
      "{'DC': 0.8759246606759622, 'BUI': 0.9822484890812936, 'FWI': 0.8758641588191531}\n",
      "DC\n",
      "{'DMC': 0.8759246606759622, 'BUI': 0.9419884631009655}\n",
      "ISI\n",
      "{'FWI': 0.9228949343157855}\n",
      "BUI\n",
      "{'DMC': 0.9822484890812936, 'DC': 0.9419884631009655, 'FWI': 0.8579730958964258}\n",
      "FWI\n",
      "{'DMC': 0.8758641588191531, 'ISI': 0.9228949343157855, 'BUI': 0.8579730958964258}\n"
     ]
    }
   ],
   "source": [
    "for col,list in rel_feat.items():\n",
    "    print(col)\n",
    "    print(list)"
   ]
  },
  {
   "cell_type": "code",
   "execution_count": 22,
   "id": "63285d1f-6ae3-4553-b596-b59f90da80b1",
   "metadata": {},
   "outputs": [],
   "source": [
    "target_corr = corr_df['FWI'].sort_values(ascending=False)"
   ]
  },
  {
   "cell_type": "code",
   "execution_count": 23,
   "id": "7f25299b-606c-4390-827b-439141a4db9e",
   "metadata": {},
   "outputs": [
    {
     "data": {
      "text/plain": [
       "FWI                      1.000000\n",
       "ISI                      0.922895\n",
       "DMC                      0.875864\n",
       "BUI                      0.857973\n",
       "DC                       0.739521\n",
       "Classes_fire             0.719216\n",
       "FFMC                     0.691132\n",
       "Temperature              0.566670\n",
       "Region_Sidi-Bel Abbes    0.197102\n",
       "Ws                       0.032368\n",
       "Region_Bejaia           -0.197102\n",
       "Rain                    -0.324422\n",
       "RH                      -0.580957\n",
       "Classes_not fire        -0.719216\n",
       "Name: FWI, dtype: float64"
      ]
     },
     "execution_count": 23,
     "metadata": {},
     "output_type": "execute_result"
    }
   ],
   "source": [
    "target_corr"
   ]
  },
  {
   "cell_type": "markdown",
   "id": "d7d45ccf-e031-46cf-9662-30241aa54c3b",
   "metadata": {},
   "source": [
    "## For the highly correlated features (DMC', 'ISI', 'BUI','FWI','DC') We can see that target feature FWI is highly correlated to ISI,DMC the most so we can drop ('BUI','DC')"
   ]
  },
  {
   "cell_type": "code",
   "execution_count": 24,
   "id": "22933d9e-20d4-49c8-b889-1165e190a9bf",
   "metadata": {},
   "outputs": [],
   "source": [
    "highly_corr_features = ['BUI','DC']\n",
    "droplist.extend(highly_corr_features)"
   ]
  },
  {
   "cell_type": "code",
   "execution_count": 25,
   "id": "3603f45a-daa1-47d3-925d-65b12a81ed2f",
   "metadata": {},
   "outputs": [],
   "source": [
    "df_mod = df_mod.drop(highly_corr_features,axis=1)"
   ]
  },
  {
   "cell_type": "code",
   "execution_count": 26,
   "id": "48cf15b8-dc0f-410f-8ecd-566284faae5e",
   "metadata": {},
   "outputs": [
    {
     "data": {
      "text/html": [
       "<div>\n",
       "<style scoped>\n",
       "    .dataframe tbody tr th:only-of-type {\n",
       "        vertical-align: middle;\n",
       "    }\n",
       "\n",
       "    .dataframe tbody tr th {\n",
       "        vertical-align: top;\n",
       "    }\n",
       "\n",
       "    .dataframe thead th {\n",
       "        text-align: right;\n",
       "    }\n",
       "</style>\n",
       "<table border=\"1\" class=\"dataframe\">\n",
       "  <thead>\n",
       "    <tr style=\"text-align: right;\">\n",
       "      <th></th>\n",
       "      <th>Temperature</th>\n",
       "      <th>RH</th>\n",
       "      <th>Ws</th>\n",
       "      <th>Rain</th>\n",
       "      <th>FFMC</th>\n",
       "      <th>DMC</th>\n",
       "      <th>ISI</th>\n",
       "      <th>FWI</th>\n",
       "      <th>Classes_fire</th>\n",
       "      <th>Classes_not fire</th>\n",
       "      <th>Region_Bejaia</th>\n",
       "      <th>Region_Sidi-Bel Abbes</th>\n",
       "    </tr>\n",
       "  </thead>\n",
       "  <tbody>\n",
       "    <tr>\n",
       "      <th>0</th>\n",
       "      <td>29.0</td>\n",
       "      <td>57.0</td>\n",
       "      <td>18.0</td>\n",
       "      <td>0.0</td>\n",
       "      <td>65.7</td>\n",
       "      <td>3.4</td>\n",
       "      <td>1.3</td>\n",
       "      <td>0.5</td>\n",
       "      <td>0.0</td>\n",
       "      <td>1.0</td>\n",
       "      <td>1.0</td>\n",
       "      <td>0.0</td>\n",
       "    </tr>\n",
       "    <tr>\n",
       "      <th>1</th>\n",
       "      <td>29.0</td>\n",
       "      <td>61.0</td>\n",
       "      <td>13.0</td>\n",
       "      <td>1.3</td>\n",
       "      <td>64.4</td>\n",
       "      <td>4.1</td>\n",
       "      <td>1.0</td>\n",
       "      <td>0.4</td>\n",
       "      <td>0.0</td>\n",
       "      <td>1.0</td>\n",
       "      <td>1.0</td>\n",
       "      <td>0.0</td>\n",
       "    </tr>\n",
       "  </tbody>\n",
       "</table>\n",
       "</div>"
      ],
      "text/plain": [
       "   Temperature    RH    Ws  Rain  FFMC  DMC  ISI  FWI  Classes_fire  \\\n",
       "0         29.0  57.0  18.0   0.0  65.7  3.4  1.3  0.5           0.0   \n",
       "1         29.0  61.0  13.0   1.3  64.4  4.1  1.0  0.4           0.0   \n",
       "\n",
       "   Classes_not fire  Region_Bejaia  Region_Sidi-Bel Abbes  \n",
       "0               1.0            1.0                    0.0  \n",
       "1               1.0            1.0                    0.0  "
      ]
     },
     "execution_count": 26,
     "metadata": {},
     "output_type": "execute_result"
    }
   ],
   "source": [
    "df_mod.head(2)"
   ]
  },
  {
   "cell_type": "markdown",
   "id": "353a88e7-1947-4836-aa50-fd0b00919cf1",
   "metadata": {},
   "source": [
    "### Splitting of Data"
   ]
  },
  {
   "cell_type": "code",
   "execution_count": 27,
   "id": "5cec1872-1c1e-482a-9c43-88249b09b03f",
   "metadata": {},
   "outputs": [],
   "source": [
    "independent_features = ['Temperature','RH','Ws','Rain','FFMC','DMC','ISI','Region_Bejaia','Region_Sidi-Bel Abbes','Classes_fire','Classes_not fire']\n",
    "dependent_features = ['FWI']"
   ]
  },
  {
   "cell_type": "code",
   "execution_count": 28,
   "id": "dfefe10f-8b81-447c-84d0-e61baaf07a5f",
   "metadata": {},
   "outputs": [],
   "source": [
    "X = df_mod[independent_features]\n",
    "y = df_mod[dependent_features]"
   ]
  },
  {
   "cell_type": "code",
   "execution_count": 29,
   "id": "f235d4f9-3127-4656-964f-d985238f8a31",
   "metadata": {},
   "outputs": [
    {
     "data": {
      "text/html": [
       "<div>\n",
       "<style scoped>\n",
       "    .dataframe tbody tr th:only-of-type {\n",
       "        vertical-align: middle;\n",
       "    }\n",
       "\n",
       "    .dataframe tbody tr th {\n",
       "        vertical-align: top;\n",
       "    }\n",
       "\n",
       "    .dataframe thead th {\n",
       "        text-align: right;\n",
       "    }\n",
       "</style>\n",
       "<table border=\"1\" class=\"dataframe\">\n",
       "  <thead>\n",
       "    <tr style=\"text-align: right;\">\n",
       "      <th></th>\n",
       "      <th>Temperature</th>\n",
       "      <th>RH</th>\n",
       "      <th>Ws</th>\n",
       "      <th>Rain</th>\n",
       "      <th>FFMC</th>\n",
       "      <th>DMC</th>\n",
       "      <th>ISI</th>\n",
       "      <th>Region_Bejaia</th>\n",
       "      <th>Region_Sidi-Bel Abbes</th>\n",
       "      <th>Classes_fire</th>\n",
       "      <th>Classes_not fire</th>\n",
       "    </tr>\n",
       "  </thead>\n",
       "  <tbody>\n",
       "    <tr>\n",
       "      <th>0</th>\n",
       "      <td>29.0</td>\n",
       "      <td>57.0</td>\n",
       "      <td>18.0</td>\n",
       "      <td>0.0</td>\n",
       "      <td>65.7</td>\n",
       "      <td>3.4</td>\n",
       "      <td>1.3</td>\n",
       "      <td>1.0</td>\n",
       "      <td>0.0</td>\n",
       "      <td>0.0</td>\n",
       "      <td>1.0</td>\n",
       "    </tr>\n",
       "    <tr>\n",
       "      <th>1</th>\n",
       "      <td>29.0</td>\n",
       "      <td>61.0</td>\n",
       "      <td>13.0</td>\n",
       "      <td>1.3</td>\n",
       "      <td>64.4</td>\n",
       "      <td>4.1</td>\n",
       "      <td>1.0</td>\n",
       "      <td>1.0</td>\n",
       "      <td>0.0</td>\n",
       "      <td>0.0</td>\n",
       "      <td>1.0</td>\n",
       "    </tr>\n",
       "  </tbody>\n",
       "</table>\n",
       "</div>"
      ],
      "text/plain": [
       "   Temperature    RH    Ws  Rain  FFMC  DMC  ISI  Region_Bejaia  \\\n",
       "0         29.0  57.0  18.0   0.0  65.7  3.4  1.3            1.0   \n",
       "1         29.0  61.0  13.0   1.3  64.4  4.1  1.0            1.0   \n",
       "\n",
       "   Region_Sidi-Bel Abbes  Classes_fire  Classes_not fire  \n",
       "0                    0.0           0.0               1.0  \n",
       "1                    0.0           0.0               1.0  "
      ]
     },
     "execution_count": 29,
     "metadata": {},
     "output_type": "execute_result"
    }
   ],
   "source": [
    "X.head(2)"
   ]
  },
  {
   "cell_type": "code",
   "execution_count": 30,
   "id": "9af4eeaf-c33e-45db-bb8b-23e6db64ed5f",
   "metadata": {},
   "outputs": [
    {
     "data": {
      "text/plain": [
       "(243, 11)"
      ]
     },
     "execution_count": 30,
     "metadata": {},
     "output_type": "execute_result"
    }
   ],
   "source": [
    "X.shape"
   ]
  },
  {
   "cell_type": "code",
   "execution_count": 31,
   "id": "18082527-72a8-4686-b307-84231a26d75d",
   "metadata": {},
   "outputs": [
    {
     "data": {
      "text/html": [
       "<div>\n",
       "<style scoped>\n",
       "    .dataframe tbody tr th:only-of-type {\n",
       "        vertical-align: middle;\n",
       "    }\n",
       "\n",
       "    .dataframe tbody tr th {\n",
       "        vertical-align: top;\n",
       "    }\n",
       "\n",
       "    .dataframe thead th {\n",
       "        text-align: right;\n",
       "    }\n",
       "</style>\n",
       "<table border=\"1\" class=\"dataframe\">\n",
       "  <thead>\n",
       "    <tr style=\"text-align: right;\">\n",
       "      <th></th>\n",
       "      <th>FWI</th>\n",
       "    </tr>\n",
       "  </thead>\n",
       "  <tbody>\n",
       "    <tr>\n",
       "      <th>0</th>\n",
       "      <td>0.5</td>\n",
       "    </tr>\n",
       "    <tr>\n",
       "      <th>1</th>\n",
       "      <td>0.4</td>\n",
       "    </tr>\n",
       "  </tbody>\n",
       "</table>\n",
       "</div>"
      ],
      "text/plain": [
       "   FWI\n",
       "0  0.5\n",
       "1  0.4"
      ]
     },
     "execution_count": 31,
     "metadata": {},
     "output_type": "execute_result"
    }
   ],
   "source": [
    "y.head(2)"
   ]
  },
  {
   "cell_type": "code",
   "execution_count": 32,
   "id": "a5d777b0-b049-42b4-9534-0abdd9e0a16c",
   "metadata": {},
   "outputs": [
    {
     "data": {
      "text/plain": [
       "(243, 1)"
      ]
     },
     "execution_count": 32,
     "metadata": {},
     "output_type": "execute_result"
    }
   ],
   "source": [
    "y.shape"
   ]
  },
  {
   "cell_type": "markdown",
   "id": "553a0a01-370f-43ec-85cd-3c5221c3dad7",
   "metadata": {},
   "source": [
    "#### Train, Test Split the data"
   ]
  },
  {
   "cell_type": "code",
   "execution_count": 34,
   "id": "78692203-2fdb-47b4-a0af-7b0c820210c4",
   "metadata": {},
   "outputs": [],
   "source": [
    "X_train,X_test,y_train,y_test = train_test_split(X,y,test_size=0.2,random_state=24)"
   ]
  },
  {
   "cell_type": "code",
   "execution_count": 34,
   "id": "523b3070-9872-4314-a995-ba84e43083c4",
   "metadata": {},
   "outputs": [
    {
     "name": "stdout",
     "output_type": "stream",
     "text": [
      "Train X:(194, 11)\n",
      "Train y:(194, 1)\n",
      "Test X:(49, 11)\n",
      "Test y:(49, 1)\n"
     ]
    }
   ],
   "source": [
    "print(f'Train X:{X_train.shape}\\nTrain y:{y_train.shape}\\nTest X:{X_test.shape}\\nTest y:{y_test.shape}')"
   ]
  },
  {
   "cell_type": "code",
   "execution_count": 40,
   "id": "f931d3cc",
   "metadata": {},
   "outputs": [
    {
     "data": {
      "text/plain": [
       "Temperature              29.0\n",
       "RH                       87.0\n",
       "Ws                       18.0\n",
       "Rain                      0.0\n",
       "FFMC                     80.0\n",
       "DMC                      11.8\n",
       "ISI                       2.8\n",
       "Region_Bejaia             0.0\n",
       "Region_Sidi-Bel Abbes     1.0\n",
       "Classes_fire              0.0\n",
       "Classes_not fire          1.0\n",
       "Name: 177, dtype: float64"
      ]
     },
     "execution_count": 40,
     "metadata": {},
     "output_type": "execute_result"
    }
   ],
   "source": [
    "X_test.iloc[43]"
   ]
  },
  {
   "cell_type": "code",
   "execution_count": 41,
   "id": "1f1d374b",
   "metadata": {},
   "outputs": [
    {
     "data": {
      "text/plain": [
       "FWI    3.2\n",
       "Name: 177, dtype: float64"
      ]
     },
     "execution_count": 41,
     "metadata": {},
     "output_type": "execute_result"
    }
   ],
   "source": [
    "y_test.iloc[43]"
   ]
  },
  {
   "cell_type": "markdown",
   "id": "ca8b21bc-2762-4988-9505-8ce3536943fb",
   "metadata": {},
   "source": [
    "### Scaling of data"
   ]
  },
  {
   "cell_type": "code",
   "execution_count": 35,
   "id": "645b7dbd-b237-474f-94ea-fb1e62b89bda",
   "metadata": {},
   "outputs": [
    {
     "data": {
      "text/plain": [
       "<Axes: title={'center': 'Independent Features Before Scaling'}>"
      ]
     },
     "execution_count": 35,
     "metadata": {},
     "output_type": "execute_result"
    },
    {
     "data": {
      "image/png": "[encoded data removed]",
      "text/plain": [
       "<Figure size 1500x1000 with 1 Axes>"
      ]
     },
     "metadata": {},
     "output_type": "display_data"
    }
   ],
   "source": [
    "# Box plot of data before scaling \n",
    "plt.figure(figsize=(15,10))\n",
    "plt.title('Independent Features Before Scaling')\n",
    "sns.boxplot(X_train)"
   ]
  },
  {
   "cell_type": "code",
   "execution_count": 36,
   "id": "e10613a3-0c1d-4c0b-9086-57f686b8067a",
   "metadata": {},
   "outputs": [],
   "source": [
    "scaler = StandardScaler()"
   ]
  },
  {
   "cell_type": "code",
   "execution_count": 37,
   "id": "4b900f35-46aa-496b-9e3b-935fd8981349",
   "metadata": {},
   "outputs": [],
   "source": [
    "X_train_scaled = pd.DataFrame()"
   ]
  },
  {
   "cell_type": "code",
   "execution_count": 38,
   "id": "54b1b073-5971-461d-aa51-ec5bffc84df2",
   "metadata": {},
   "outputs": [],
   "source": [
    "X_train_scaled[scaler.get_feature_names_out()] = scaler.fit_transform(X_train)"
   ]
  },
  {
   "cell_type": "code",
   "execution_count": 39,
   "id": "b4f1cdd5-6a0e-45ac-9a10-55984ee7d75d",
   "metadata": {},
   "outputs": [
    {
     "name": "stdout",
     "output_type": "stream",
     "text": [
      "<class 'pandas.core.frame.DataFrame'>\n",
      "RangeIndex: 194 entries, 0 to 193\n",
      "Data columns (total 11 columns):\n",
      " #   Column                 Non-Null Count  Dtype  \n",
      "---  ------                 --------------  -----  \n",
      " 0   Temperature            194 non-null    float64\n",
      " 1   RH                     194 non-null    float64\n",
      " 2   Ws                     194 non-null    float64\n",
      " 3   Rain                   194 non-null    float64\n",
      " 4   FFMC                   194 non-null    float64\n",
      " 5   DMC                    194 non-null    float64\n",
      " 6   ISI                    194 non-null    float64\n",
      " 7   Region_Bejaia          194 non-null    float64\n",
      " 8   Region_Sidi-Bel Abbes  194 non-null    float64\n",
      " 9   Classes_fire           194 non-null    float64\n",
      " 10  Classes_not fire       194 non-null    float64\n",
      "dtypes: float64(11)\n",
      "memory usage: 16.8 KB\n"
     ]
    }
   ],
   "source": [
    "X_train_scaled.info()"
   ]
  },
  {
   "cell_type": "code",
   "execution_count": 40,
   "id": "27096651-cd4b-47c5-bb96-3be23158d151",
   "metadata": {},
   "outputs": [
    {
     "data": {
      "text/plain": [
       "(194, 11)"
      ]
     },
     "execution_count": 40,
     "metadata": {},
     "output_type": "execute_result"
    }
   ],
   "source": [
    "X_train_scaled.shape"
   ]
  },
  {
   "cell_type": "code",
   "execution_count": 41,
   "id": "3b49f4b4-a85c-42fa-ae81-a27d7b0192b3",
   "metadata": {},
   "outputs": [],
   "source": [
    "X_test_scaled = pd.DataFrame()\n",
    "X_test_scaled[scaler.get_feature_names_out()] = scaler.transform(X_test)"
   ]
  },
  {
   "cell_type": "code",
   "execution_count": 42,
   "id": "e4841032-150f-4c05-8ebb-e1c0be0a0605",
   "metadata": {},
   "outputs": [
    {
     "data": {
      "text/plain": [
       "(49, 11)"
      ]
     },
     "execution_count": 42,
     "metadata": {},
     "output_type": "execute_result"
    }
   ],
   "source": [
    "X_test_scaled.shape"
   ]
  },
  {
   "cell_type": "code",
   "execution_count": 43,
   "id": "0a95c63a-a681-4f50-8a42-80587c3adb17",
   "metadata": {},
   "outputs": [
    {
     "name": "stdout",
     "output_type": "stream",
     "text": [
      "<class 'pandas.core.frame.DataFrame'>\n",
      "RangeIndex: 49 entries, 0 to 48\n",
      "Data columns (total 11 columns):\n",
      " #   Column                 Non-Null Count  Dtype  \n",
      "---  ------                 --------------  -----  \n",
      " 0   Temperature            49 non-null     float64\n",
      " 1   RH                     49 non-null     float64\n",
      " 2   Ws                     49 non-null     float64\n",
      " 3   Rain                   49 non-null     float64\n",
      " 4   FFMC                   49 non-null     float64\n",
      " 5   DMC                    49 non-null     float64\n",
      " 6   ISI                    49 non-null     float64\n",
      " 7   Region_Bejaia          49 non-null     float64\n",
      " 8   Region_Sidi-Bel Abbes  49 non-null     float64\n",
      " 9   Classes_fire           49 non-null     float64\n",
      " 10  Classes_not fire       49 non-null     float64\n",
      "dtypes: float64(11)\n",
      "memory usage: 4.3 KB\n"
     ]
    }
   ],
   "source": [
    "X_test_scaled.info()"
   ]
  },
  {
   "cell_type": "code",
   "execution_count": 44,
   "id": "a74e4628-8c22-47ff-b4b7-79be7c971126",
   "metadata": {},
   "outputs": [
    {
     "data": {
      "text/plain": [
       "<Axes: title={'center': 'Independent Features After Scaling'}>"
      ]
     },
     "execution_count": 44,
     "metadata": {},
     "output_type": "execute_result"
    },
    {
     "data": {
      "image/png": "[encoded data removed]",
      "text/plain": [
       "<Figure size 1500x1000 with 1 Axes>"
      ]
     },
     "metadata": {},
     "output_type": "display_data"
    }
   ],
   "source": [
    "# Box plot of data after scaling \n",
    "plt.figure(figsize=(15,10))\n",
    "plt.title('Independent Features After Scaling')\n",
    "sns.boxplot(X_train_scaled)"
   ]
  },
  {
   "cell_type": "markdown",
   "id": "4dbfa244-e806-4b45-a641-e7ded47af293",
   "metadata": {},
   "source": [
    "## Linear Regression Model"
   ]
  },
  {
   "cell_type": "code",
   "execution_count": 45,
   "id": "add76af0-c3d5-4393-9c55-6d0ccdbf92b5",
   "metadata": {},
   "outputs": [],
   "source": [
    "linear_regressor = LinearRegression()"
   ]
  },
  {
   "cell_type": "code",
   "execution_count": 46,
   "id": "67148b74-cc44-47e2-9eb6-da4d49ad502d",
   "metadata": {},
   "outputs": [],
   "source": [
    "linear_regressor.fit(X_train_scaled,y_train)\n",
    "y_pred_linear = linear_regressor.predict(X_test_scaled)\n",
    "mse_lr = mean_squared_error(y_test,y_pred_linear)\n",
    "mae_lr = mean_absolute_error(y_test,y_pred_linear)\n",
    "rmse_lr = np.sqrt(mse_lr)\n",
    "r2_lr = r2_score(y_test,y_pred_linear)\n",
    "score_lr = linear_regressor.score\n",
    "r2_adj_lr = 1 - ( (1-r2_lr)*(len(X_train)-1) / ((len(X_train)-1) - X_train.shape[1] - 1) )"
   ]
  },
  {
   "cell_type": "code",
   "execution_count": 47,
   "id": "16ff4f7c-0808-4520-b545-a3238506d749",
   "metadata": {},
   "outputs": [
    {
     "data": {
      "text/plain": [
       "array([[-2.98376346e-01],\n",
       "       [ 4.59446951e-03],\n",
       "       [ 8.38716351e+00],\n",
       "       [ 5.93185113e-01],\n",
       "       [ 3.15431180e-01],\n",
       "       [ 1.05055619e+01],\n",
       "       [ 8.51237853e-01],\n",
       "       [ 1.31706990e+01],\n",
       "       [ 2.18736728e+00],\n",
       "       [ 3.61713407e+00],\n",
       "       [ 2.09307448e+01],\n",
       "       [ 2.08370102e-01],\n",
       "       [ 5.55734075e-01],\n",
       "       [ 8.46060347e-01],\n",
       "       [ 2.87888444e-01],\n",
       "       [ 5.23378473e+00],\n",
       "       [ 1.03844712e+01],\n",
       "       [ 1.44568654e+01],\n",
       "       [ 6.03477930e+00],\n",
       "       [ 7.82484923e+00],\n",
       "       [ 9.75474652e+00],\n",
       "       [ 2.28791268e+01],\n",
       "       [ 9.84640761e+00],\n",
       "       [ 6.55630635e+00],\n",
       "       [-5.37002119e-01],\n",
       "       [ 4.42323618e+00],\n",
       "       [ 1.41207028e-01],\n",
       "       [ 2.15344054e+00],\n",
       "       [ 1.49657789e+01],\n",
       "       [ 1.43109776e+01],\n",
       "       [ 1.12422921e+01],\n",
       "       [ 1.93452415e+01],\n",
       "       [ 4.52072581e+00],\n",
       "       [ 1.42484626e+01],\n",
       "       [ 7.72153647e+00],\n",
       "       [ 4.18283002e+00],\n",
       "       [ 2.07799973e-01],\n",
       "       [ 1.18645078e+01],\n",
       "       [ 1.23378837e+01],\n",
       "       [ 9.68577710e+00],\n",
       "       [ 4.22685590e+00],\n",
       "       [ 1.91460818e+01],\n",
       "       [-9.94953946e-01],\n",
       "       [ 2.77061768e+00],\n",
       "       [ 1.64738085e+01],\n",
       "       [ 4.72051454e+00],\n",
       "       [ 1.13769472e+00],\n",
       "       [ 1.72332987e+00],\n",
       "       [ 3.18578425e+00]])"
      ]
     },
     "execution_count": 47,
     "metadata": {},
     "output_type": "execute_result"
    }
   ],
   "source": [
    "y_pred_linear"
   ]
  },
  {
   "cell_type": "code",
   "execution_count": 48,
   "id": "2d419026-0b1f-4ac8-a98e-8a2d2084684b",
   "metadata": {},
   "outputs": [
    {
     "data": {
      "text/html": [
       "<div>\n",
       "<style scoped>\n",
       "    .dataframe tbody tr th:only-of-type {\n",
       "        vertical-align: middle;\n",
       "    }\n",
       "\n",
       "    .dataframe tbody tr th {\n",
       "        vertical-align: top;\n",
       "    }\n",
       "\n",
       "    .dataframe thead th {\n",
       "        text-align: right;\n",
       "    }\n",
       "</style>\n",
       "<table border=\"1\" class=\"dataframe\">\n",
       "  <thead>\n",
       "    <tr style=\"text-align: right;\">\n",
       "      <th></th>\n",
       "      <th>FWI</th>\n",
       "    </tr>\n",
       "  </thead>\n",
       "  <tbody>\n",
       "    <tr>\n",
       "      <th>152</th>\n",
       "      <td>0.5</td>\n",
       "    </tr>\n",
       "    <tr>\n",
       "      <th>15</th>\n",
       "      <td>0.0</td>\n",
       "    </tr>\n",
       "    <tr>\n",
       "      <th>112</th>\n",
       "      <td>8.3</td>\n",
       "    </tr>\n",
       "    <tr>\n",
       "      <th>144</th>\n",
       "      <td>0.8</td>\n",
       "    </tr>\n",
       "    <tr>\n",
       "      <th>125</th>\n",
       "      <td>1.0</td>\n",
       "    </tr>\n",
       "    <tr>\n",
       "      <th>225</th>\n",
       "      <td>10.3</td>\n",
       "    </tr>\n",
       "    <tr>\n",
       "      <th>63</th>\n",
       "      <td>0.8</td>\n",
       "    </tr>\n",
       "    <tr>\n",
       "      <th>77</th>\n",
       "      <td>14.6</td>\n",
       "    </tr>\n",
       "    <tr>\n",
       "      <th>220</th>\n",
       "      <td>2.7</td>\n",
       "    </tr>\n",
       "    <tr>\n",
       "      <th>224</th>\n",
       "      <td>3.9</td>\n",
       "    </tr>\n",
       "    <tr>\n",
       "      <th>185</th>\n",
       "      <td>20.9</td>\n",
       "    </tr>\n",
       "    <tr>\n",
       "      <th>19</th>\n",
       "      <td>0.4</td>\n",
       "    </tr>\n",
       "    <tr>\n",
       "      <th>0</th>\n",
       "      <td>0.5</td>\n",
       "    </tr>\n",
       "    <tr>\n",
       "      <th>13</th>\n",
       "      <td>0.4</td>\n",
       "    </tr>\n",
       "    <tr>\n",
       "      <th>126</th>\n",
       "      <td>0.9</td>\n",
       "    </tr>\n",
       "    <tr>\n",
       "      <th>154</th>\n",
       "      <td>5.2</td>\n",
       "    </tr>\n",
       "    <tr>\n",
       "      <th>25</th>\n",
       "      <td>10.6</td>\n",
       "    </tr>\n",
       "    <tr>\n",
       "      <th>230</th>\n",
       "      <td>15.4</td>\n",
       "    </tr>\n",
       "    <tr>\n",
       "      <th>196</th>\n",
       "      <td>5.5</td>\n",
       "    </tr>\n",
       "    <tr>\n",
       "      <th>166</th>\n",
       "      <td>7.3</td>\n",
       "    </tr>\n",
       "    <tr>\n",
       "      <th>48</th>\n",
       "      <td>10.9</td>\n",
       "    </tr>\n",
       "    <tr>\n",
       "      <th>198</th>\n",
       "      <td>24.0</td>\n",
       "    </tr>\n",
       "    <tr>\n",
       "      <th>155</th>\n",
       "      <td>9.9</td>\n",
       "    </tr>\n",
       "    <tr>\n",
       "      <th>157</th>\n",
       "      <td>6.3</td>\n",
       "    </tr>\n",
       "    <tr>\n",
       "      <th>103</th>\n",
       "      <td>0.5</td>\n",
       "    </tr>\n",
       "    <tr>\n",
       "      <th>72</th>\n",
       "      <td>4.2</td>\n",
       "    </tr>\n",
       "    <tr>\n",
       "      <th>14</th>\n",
       "      <td>0.1</td>\n",
       "    </tr>\n",
       "    <tr>\n",
       "      <th>40</th>\n",
       "      <td>2.2</td>\n",
       "    </tr>\n",
       "    <tr>\n",
       "      <th>156</th>\n",
       "      <td>15.0</td>\n",
       "    </tr>\n",
       "    <tr>\n",
       "      <th>78</th>\n",
       "      <td>16.1</td>\n",
       "    </tr>\n",
       "    <tr>\n",
       "      <th>201</th>\n",
       "      <td>9.0</td>\n",
       "    </tr>\n",
       "    <tr>\n",
       "      <th>84</th>\n",
       "      <td>20.9</td>\n",
       "    </tr>\n",
       "    <tr>\n",
       "      <th>64</th>\n",
       "      <td>3.9</td>\n",
       "    </tr>\n",
       "    <tr>\n",
       "      <th>26</th>\n",
       "      <td>15.0</td>\n",
       "    </tr>\n",
       "    <tr>\n",
       "      <th>150</th>\n",
       "      <td>7.2</td>\n",
       "    </tr>\n",
       "    <tr>\n",
       "      <th>232</th>\n",
       "      <td>3.8</td>\n",
       "    </tr>\n",
       "    <tr>\n",
       "      <th>102</th>\n",
       "      <td>0.3</td>\n",
       "    </tr>\n",
       "    <tr>\n",
       "      <th>148</th>\n",
       "      <td>12.0</td>\n",
       "    </tr>\n",
       "    <tr>\n",
       "      <th>29</th>\n",
       "      <td>12.9</td>\n",
       "    </tr>\n",
       "    <tr>\n",
       "      <th>168</th>\n",
       "      <td>9.1</td>\n",
       "    </tr>\n",
       "    <tr>\n",
       "      <th>51</th>\n",
       "      <td>2.8</td>\n",
       "    </tr>\n",
       "    <tr>\n",
       "      <th>233</th>\n",
       "      <td>21.6</td>\n",
       "    </tr>\n",
       "    <tr>\n",
       "      <th>122</th>\n",
       "      <td>0.2</td>\n",
       "    </tr>\n",
       "    <tr>\n",
       "      <th>177</th>\n",
       "      <td>3.2</td>\n",
       "    </tr>\n",
       "    <tr>\n",
       "      <th>229</th>\n",
       "      <td>17.5</td>\n",
       "    </tr>\n",
       "    <tr>\n",
       "      <th>76</th>\n",
       "      <td>4.2</td>\n",
       "    </tr>\n",
       "    <tr>\n",
       "      <th>161</th>\n",
       "      <td>1.3</td>\n",
       "    </tr>\n",
       "    <tr>\n",
       "      <th>130</th>\n",
       "      <td>1.9</td>\n",
       "    </tr>\n",
       "    <tr>\n",
       "      <th>221</th>\n",
       "      <td>3.7</td>\n",
       "    </tr>\n",
       "  </tbody>\n",
       "</table>\n",
       "</div>"
      ],
      "text/plain": [
       "      FWI\n",
       "152   0.5\n",
       "15    0.0\n",
       "112   8.3\n",
       "144   0.8\n",
       "125   1.0\n",
       "225  10.3\n",
       "63    0.8\n",
       "77   14.6\n",
       "220   2.7\n",
       "224   3.9\n",
       "185  20.9\n",
       "19    0.4\n",
       "0     0.5\n",
       "13    0.4\n",
       "126   0.9\n",
       "154   5.2\n",
       "25   10.6\n",
       "230  15.4\n",
       "196   5.5\n",
       "166   7.3\n",
       "48   10.9\n",
       "198  24.0\n",
       "155   9.9\n",
       "157   6.3\n",
       "103   0.5\n",
       "72    4.2\n",
       "14    0.1\n",
       "40    2.2\n",
       "156  15.0\n",
       "78   16.1\n",
       "201   9.0\n",
       "84   20.9\n",
       "64    3.9\n",
       "26   15.0\n",
       "150   7.2\n",
       "232   3.8\n",
       "102   0.3\n",
       "148  12.0\n",
       "29   12.9\n",
       "168   9.1\n",
       "51    2.8\n",
       "233  21.6\n",
       "122   0.2\n",
       "177   3.2\n",
       "229  17.5\n",
       "76    4.2\n",
       "161   1.3\n",
       "130   1.9\n",
       "221   3.7"
      ]
     },
     "execution_count": 48,
     "metadata": {},
     "output_type": "execute_result"
    }
   ],
   "source": [
    "y_test"
   ]
  },
  {
   "cell_type": "code",
   "execution_count": 49,
   "id": "eebf966b-dffe-4bca-b55c-f9bf3df62dc3",
   "metadata": {},
   "outputs": [
    {
     "name": "stdout",
     "output_type": "stream",
     "text": [
      "Linear Model:\n",
      "mse->0.6833274680027909\n",
      "mae->0.590877996296719\n",
      "rmse->0.8266362368072131\n",
      "R2->0.9847830197069042\n",
      "R2-adj->0.9837741591349862\n",
      "score-><bound method RegressorMixin.score of LinearRegression()>\n"
     ]
    }
   ],
   "source": [
    "print(f'Linear Model:\\nmse->{mse_lr}\\nmae->{mae_lr}\\nrmse->{rmse_lr}\\nR2->{r2_lr}\\nR2-adj->{r2_adj_lr}\\nscore->{score_lr}')"
   ]
  },
  {
   "cell_type": "code",
   "execution_count": 50,
   "id": "c593f60e-4e05-4ab8-b479-21c19c7937a0",
   "metadata": {},
   "outputs": [],
   "source": [
    "scores = {\"MODEL\":[\"Linear Regression\"],\"MSE\":[mse_lr],\"MAE\":[mae_lr],\"RMSE\":rmse_lr,\"R2\":[r2_lr],'R2_ADJ':[r2_adj_lr]}"
   ]
  },
  {
   "cell_type": "code",
   "execution_count": 51,
   "id": "74ea5f11-a5b4-4f48-aadf-eae250757472",
   "metadata": {},
   "outputs": [],
   "source": [
    "evaluation_df = pd.DataFrame(scores)"
   ]
  },
  {
   "cell_type": "code",
   "execution_count": 52,
   "id": "f485352d-1ee5-449d-9f59-ca7c516004c0",
   "metadata": {},
   "outputs": [
    {
     "data": {
      "text/html": [
       "<div>\n",
       "<style scoped>\n",
       "    .dataframe tbody tr th:only-of-type {\n",
       "        vertical-align: middle;\n",
       "    }\n",
       "\n",
       "    .dataframe tbody tr th {\n",
       "        vertical-align: top;\n",
       "    }\n",
       "\n",
       "    .dataframe thead th {\n",
       "        text-align: right;\n",
       "    }\n",
       "</style>\n",
       "<table border=\"1\" class=\"dataframe\">\n",
       "  <thead>\n",
       "    <tr style=\"text-align: right;\">\n",
       "      <th></th>\n",
       "      <th>MODEL</th>\n",
       "      <th>MSE</th>\n",
       "      <th>MAE</th>\n",
       "      <th>RMSE</th>\n",
       "      <th>R2</th>\n",
       "      <th>R2_ADJ</th>\n",
       "    </tr>\n",
       "  </thead>\n",
       "  <tbody>\n",
       "    <tr>\n",
       "      <th>0</th>\n",
       "      <td>Linear Regression</td>\n",
       "      <td>0.683327</td>\n",
       "      <td>0.590878</td>\n",
       "      <td>0.826636</td>\n",
       "      <td>0.984783</td>\n",
       "      <td>0.983774</td>\n",
       "    </tr>\n",
       "  </tbody>\n",
       "</table>\n",
       "</div>"
      ],
      "text/plain": [
       "               MODEL       MSE       MAE      RMSE        R2    R2_ADJ\n",
       "0  Linear Regression  0.683327  0.590878  0.826636  0.984783  0.983774"
      ]
     },
     "execution_count": 52,
     "metadata": {},
     "output_type": "execute_result"
    }
   ],
   "source": [
    "evaluation_df.head()"
   ]
  },
  {
   "cell_type": "code",
   "execution_count": 53,
   "id": "558c882c-9b7e-4084-98e1-b33a1fd1481e",
   "metadata": {},
   "outputs": [
    {
     "data": {
      "text/plain": [
       "<matplotlib.collections.PathCollection at 0x7f2325704fd0>"
      ]
     },
     "execution_count": 53,
     "metadata": {},
     "output_type": "execute_result"
    },
    {
     "data": {
      "image/png": "[encoded data removed]",
      "text/plain": [
       "<Figure size 640x480 with 1 Axes>"
      ]
     },
     "metadata": {},
     "output_type": "display_data"
    }
   ],
   "source": [
    "plt.scatter(y_test,y_pred_linear)"
   ]
  },
  {
   "cell_type": "markdown",
   "id": "a024819a-8b9e-44a4-9e72-1db3da6001ac",
   "metadata": {},
   "source": [
    "## Lasso Regression Model"
   ]
  },
  {
   "cell_type": "code",
   "execution_count": 54,
   "id": "e75be06c-5304-4f0c-8a16-7483574cefd1",
   "metadata": {},
   "outputs": [],
   "source": [
    "lasso_regessor = Lasso()\n",
    "lasso_regessor.fit(X_train_scaled,y_train)\n",
    "y_pred_lasso = lasso_regessor.predict(X_test_scaled)\n",
    "mse_lasso = mean_squared_error(y_test,y_pred_lasso)\n",
    "mae_lasso = mean_absolute_error(y_test,y_pred_lasso)\n",
    "rmse_lasso = np.sqrt(mse_lasso)\n",
    "r2_lasso = r2_score(y_test,y_pred_lasso)\n",
    "score_lasso = linear_regressor.score\n",
    "r2_adj_lasso = 1 - ( (1-r2_lasso)*(len(X_train)-1) / ((len(X_train)-1) - X_train.shape[1] - 1) )"
   ]
  },
  {
   "cell_type": "code",
   "execution_count": 55,
   "id": "a3a64dd1-7b1c-49f8-a2fe-59b51693f69f",
   "metadata": {},
   "outputs": [
    {
     "name": "stdout",
     "output_type": "stream",
     "text": [
      "Lasso Model:\n",
      "mse->2.457146582550496\n",
      "mae->1.2440295624853215\n",
      "rmse->1.567528813945854\n",
      "R2->0.9452819433218423\n",
      "R2-adj->0.9416542268569921\n",
      "score-><bound method RegressorMixin.score of LinearRegression()>\n"
     ]
    }
   ],
   "source": [
    "print(f'Lasso Model:\\nmse->{mse_lasso}\\nmae->{mae_lasso}\\nrmse->{rmse_lasso}\\nR2->{r2_lasso}\\nR2-adj->{r2_adj_lasso}\\nscore->{score_lasso}')"
   ]
  },
  {
   "cell_type": "code",
   "execution_count": 56,
   "id": "0a26959a-964e-443d-9123-c73abc32ccac",
   "metadata": {},
   "outputs": [],
   "source": [
    "evaluation_df.loc[len(evaluation_df.index)] = [\"Lasso Model\",mse_lasso,mae_lasso,rmse_lasso,r2_lasso,r2_adj_lasso]"
   ]
  },
  {
   "cell_type": "code",
   "execution_count": 57,
   "id": "10a395d9-95ac-4b89-acac-92b449eb5b68",
   "metadata": {},
   "outputs": [
    {
     "data": {
      "text/html": [
       "<div>\n",
       "<style scoped>\n",
       "    .dataframe tbody tr th:only-of-type {\n",
       "        vertical-align: middle;\n",
       "    }\n",
       "\n",
       "    .dataframe tbody tr th {\n",
       "        vertical-align: top;\n",
       "    }\n",
       "\n",
       "    .dataframe thead th {\n",
       "        text-align: right;\n",
       "    }\n",
       "</style>\n",
       "<table border=\"1\" class=\"dataframe\">\n",
       "  <thead>\n",
       "    <tr style=\"text-align: right;\">\n",
       "      <th></th>\n",
       "      <th>MODEL</th>\n",
       "      <th>MSE</th>\n",
       "      <th>MAE</th>\n",
       "      <th>RMSE</th>\n",
       "      <th>R2</th>\n",
       "      <th>R2_ADJ</th>\n",
       "    </tr>\n",
       "  </thead>\n",
       "  <tbody>\n",
       "    <tr>\n",
       "      <th>0</th>\n",
       "      <td>Linear Regression</td>\n",
       "      <td>0.683327</td>\n",
       "      <td>0.590878</td>\n",
       "      <td>0.826636</td>\n",
       "      <td>0.984783</td>\n",
       "      <td>0.983774</td>\n",
       "    </tr>\n",
       "    <tr>\n",
       "      <th>1</th>\n",
       "      <td>Lasso Model</td>\n",
       "      <td>2.457147</td>\n",
       "      <td>1.244030</td>\n",
       "      <td>1.567529</td>\n",
       "      <td>0.945282</td>\n",
       "      <td>0.941654</td>\n",
       "    </tr>\n",
       "  </tbody>\n",
       "</table>\n",
       "</div>"
      ],
      "text/plain": [
       "               MODEL       MSE       MAE      RMSE        R2    R2_ADJ\n",
       "0  Linear Regression  0.683327  0.590878  0.826636  0.984783  0.983774\n",
       "1        Lasso Model  2.457147  1.244030  1.567529  0.945282  0.941654"
      ]
     },
     "execution_count": 57,
     "metadata": {},
     "output_type": "execute_result"
    }
   ],
   "source": [
    "evaluation_df"
   ]
  },
  {
   "cell_type": "code",
   "execution_count": 58,
   "id": "c9927ee3-1795-4d8c-9ed7-8af0148c6c62",
   "metadata": {},
   "outputs": [
    {
     "data": {
      "text/plain": [
       "<matplotlib.collections.PathCollection at 0x7f232c0ec0d0>"
      ]
     },
     "execution_count": 58,
     "metadata": {},
     "output_type": "execute_result"
    },
    {
     "data": {
      "image/png": "[encoded data removed]",
      "text/plain": [
       "<Figure size 640x480 with 1 Axes>"
      ]
     },
     "metadata": {},
     "output_type": "display_data"
    }
   ],
   "source": [
    "plt.scatter(y_test,y_pred_lasso)"
   ]
  },
  {
   "cell_type": "code",
   "execution_count": 60,
   "id": "d1a8a89a-50ce-48df-8f02-44958229239b",
   "metadata": {},
   "outputs": [
    {
     "data": {
      "text/plain": [
       "MODEL     Lasso Model\n",
       "MSE          2.457147\n",
       "MAE           1.24403\n",
       "RMSE         1.567529\n",
       "R2           0.945282\n",
       "R2_ADJ       0.941654\n",
       "Name: 1, dtype: object"
      ]
     },
     "execution_count": 60,
     "metadata": {},
     "output_type": "execute_result"
    }
   ],
   "source": [
    "evaluation_df.loc[1]"
   ]
  },
  {
   "cell_type": "code",
   "execution_count": 61,
   "id": "2b9d9b08-42c5-4a2e-b42c-b0b4be310323",
   "metadata": {},
   "outputs": [
    {
     "data": {
      "text/html": [
       "<div>\n",
       "<style scoped>\n",
       "    .dataframe tbody tr th:only-of-type {\n",
       "        vertical-align: middle;\n",
       "    }\n",
       "\n",
       "    .dataframe tbody tr th {\n",
       "        vertical-align: top;\n",
       "    }\n",
       "\n",
       "    .dataframe thead th {\n",
       "        text-align: right;\n",
       "    }\n",
       "</style>\n",
       "<table border=\"1\" class=\"dataframe\">\n",
       "  <thead>\n",
       "    <tr style=\"text-align: right;\">\n",
       "      <th></th>\n",
       "      <th>MODEL</th>\n",
       "      <th>MSE</th>\n",
       "      <th>MAE</th>\n",
       "      <th>RMSE</th>\n",
       "      <th>R2</th>\n",
       "      <th>R2_ADJ</th>\n",
       "    </tr>\n",
       "  </thead>\n",
       "  <tbody>\n",
       "    <tr>\n",
       "      <th>0</th>\n",
       "      <td>Linear Regression</td>\n",
       "      <td>0.683327</td>\n",
       "      <td>0.590878</td>\n",
       "      <td>0.826636</td>\n",
       "      <td>0.984783</td>\n",
       "      <td>0.983774</td>\n",
       "    </tr>\n",
       "    <tr>\n",
       "      <th>1</th>\n",
       "      <td>Lasso Model</td>\n",
       "      <td>2.457147</td>\n",
       "      <td>1.244030</td>\n",
       "      <td>1.567529</td>\n",
       "      <td>0.945282</td>\n",
       "      <td>0.941654</td>\n",
       "    </tr>\n",
       "  </tbody>\n",
       "</table>\n",
       "</div>"
      ],
      "text/plain": [
       "               MODEL       MSE       MAE      RMSE        R2    R2_ADJ\n",
       "0  Linear Regression  0.683327  0.590878  0.826636  0.984783  0.983774\n",
       "1        Lasso Model  2.457147  1.244030  1.567529  0.945282  0.941654"
      ]
     },
     "execution_count": 61,
     "metadata": {},
     "output_type": "execute_result"
    }
   ],
   "source": [
    "evaluation_df"
   ]
  },
  {
   "cell_type": "markdown",
   "id": "ef037cd5-c184-401c-9697-0ae9e60cefd4",
   "metadata": {},
   "source": [
    "##### From the above metrics for lasso we can see that the all metrics are worse when compared to that of Linear regression, which means that the Lasso predictions shows a deviation higher than the linear regression. Overall Lasso score is not better than that of Linear regression."
   ]
  },
  {
   "cell_type": "code",
   "execution_count": 65,
   "id": "20cb5e0f-0b22-4899-8827-d63009aafed7",
   "metadata": {},
   "outputs": [
    {
     "data": {
      "text/plain": [
       "1.0"
      ]
     },
     "execution_count": 65,
     "metadata": {},
     "output_type": "execute_result"
    }
   ],
   "source": [
    "# By default alpha (Hyperparameter a.k.a lambda) is set to 1 and not optimized\n",
    "lasso_regessor.alpha"
   ]
  },
  {
   "cell_type": "code",
   "execution_count": 66,
   "id": "54cc05fe-4596-487d-bb5a-7d04886b14c9",
   "metadata": {},
   "outputs": [
    {
     "data": {
      "text/plain": [
       "array([ 0.        , -0.        ,  0.        , -0.        ,  0.        ,\n",
       "        3.12645633,  3.81190831,  0.        , -0.        ,  0.        ,\n",
       "       -0.        ])"
      ]
     },
     "execution_count": 66,
     "metadata": {},
     "output_type": "execute_result"
    }
   ],
   "source": [
    "lasso_regessor.coef_"
   ]
  },
  {
   "cell_type": "code",
   "execution_count": 67,
   "id": "36bd06e6-4a05-4fc2-bf5e-e3d4896f1d17",
   "metadata": {},
   "outputs": [
    {
     "data": {
      "text/plain": [
       "array([[ 0.01583918, -0.13156567,  0.07939903, -0.04716001, -0.91352368,\n",
       "         3.82192002,  4.63505857,  0.18678201, -0.18678201,  0.24446228,\n",
       "        -0.24446228]])"
      ]
     },
     "execution_count": 67,
     "metadata": {},
     "output_type": "execute_result"
    }
   ],
   "source": [
    "linear_regressor.coef_"
   ]
  },
  {
   "cell_type": "markdown",
   "id": "ecfa06ae-9bf1-49e1-93b7-3fbf737eef59",
   "metadata": {},
   "source": [
    "## Lasso Regression Model With Cross-Validation (Let's tune the Lambda hyperparameter)"
   ]
  },
  {
   "cell_type": "code",
   "execution_count": 93,
   "id": "d1b92e7e-2a91-49f2-bd90-070a38f24946",
   "metadata": {},
   "outputs": [],
   "source": [
    "lasso_regessor_cv = LassoCV(cv=5,random_state=24)\n",
    "lasso_regessor_cv.fit(X_train_scaled,np.ravel(y_train)) # Ravel used to flatten as CV regressors expect vector for y_train\n",
    "y_pred_lasso_cv = lasso_regessor_cv.predict(X_test_scaled)\n",
    "mse_lasso_cv = mean_squared_error(y_test,y_pred_lasso_cv)\n",
    "mae_lasso_cv = mean_absolute_error(y_test,y_pred_lasso_cv)\n",
    "rmse_lasso_cv = np.sqrt(mse_lasso_cv)\n",
    "r2_lasso_cv = r2_score(y_test,y_pred_lasso_cv)\n",
    "r2_adj_lasso_cv = 1 - ( (1-r2_lasso_cv)*(len(X_train)-1) / ((len(X_train)-1) - X_train.shape[1] - 1) )"
   ]
  },
  {
   "cell_type": "code",
   "execution_count": 113,
   "id": "32529a1d-d44d-4a78-9223-1974ab11bf63",
   "metadata": {},
   "outputs": [
    {
     "data": {
      "text/plain": [
       "<matplotlib.collections.PathCollection at 0x7f2324817610>"
      ]
     },
     "execution_count": 113,
     "metadata": {},
     "output_type": "execute_result"
    },
    {
     "data": {
      "image/png": "[encoded data removed]",
      "text/plain": [
       "<Figure size 640x480 with 1 Axes>"
      ]
     },
     "metadata": {},
     "output_type": "display_data"
    }
   ],
   "source": [
    "plt.scatter(y_test,y_pred_lasso_cv)"
   ]
  },
  {
   "cell_type": "code",
   "execution_count": 94,
   "id": "ff844d8e-5bb7-40a3-bfd7-47c7ac2aeab7",
   "metadata": {},
   "outputs": [],
   "source": [
    "evaluation_df.loc[len(evaluation_df.index)] = [\"LassoCV Model\",mse_lasso_cv,mae_lasso_cv,rmse_lasso_cv,r2_lasso_cv,r2_adj_lasso_cv]"
   ]
  },
  {
   "cell_type": "code",
   "execution_count": 97,
   "id": "9bb65c76-3bbf-4e49-a674-95b81f011dcf",
   "metadata": {},
   "outputs": [
    {
     "data": {
      "text/html": [
       "<div>\n",
       "<style scoped>\n",
       "    .dataframe tbody tr th:only-of-type {\n",
       "        vertical-align: middle;\n",
       "    }\n",
       "\n",
       "    .dataframe tbody tr th {\n",
       "        vertical-align: top;\n",
       "    }\n",
       "\n",
       "    .dataframe thead th {\n",
       "        text-align: right;\n",
       "    }\n",
       "</style>\n",
       "<table border=\"1\" class=\"dataframe\">\n",
       "  <thead>\n",
       "    <tr style=\"text-align: right;\">\n",
       "      <th></th>\n",
       "      <th>MODEL</th>\n",
       "      <th>MSE</th>\n",
       "      <th>MAE</th>\n",
       "      <th>RMSE</th>\n",
       "      <th>R2</th>\n",
       "      <th>R2_ADJ</th>\n",
       "    </tr>\n",
       "  </thead>\n",
       "  <tbody>\n",
       "    <tr>\n",
       "      <th>0</th>\n",
       "      <td>Linear Regression</td>\n",
       "      <td>0.683327</td>\n",
       "      <td>0.590878</td>\n",
       "      <td>0.826636</td>\n",
       "      <td>0.984783</td>\n",
       "      <td>0.983774</td>\n",
       "    </tr>\n",
       "    <tr>\n",
       "      <th>1</th>\n",
       "      <td>Lasso Model</td>\n",
       "      <td>2.457147</td>\n",
       "      <td>1.244030</td>\n",
       "      <td>1.567529</td>\n",
       "      <td>0.945282</td>\n",
       "      <td>0.941654</td>\n",
       "    </tr>\n",
       "    <tr>\n",
       "      <th>2</th>\n",
       "      <td>LassoCV Model</td>\n",
       "      <td>0.760746</td>\n",
       "      <td>0.612742</td>\n",
       "      <td>0.872208</td>\n",
       "      <td>0.983059</td>\n",
       "      <td>0.981936</td>\n",
       "    </tr>\n",
       "  </tbody>\n",
       "</table>\n",
       "</div>"
      ],
      "text/plain": [
       "               MODEL       MSE       MAE      RMSE        R2    R2_ADJ\n",
       "0  Linear Regression  0.683327  0.590878  0.826636  0.984783  0.983774\n",
       "1        Lasso Model  2.457147  1.244030  1.567529  0.945282  0.941654\n",
       "2      LassoCV Model  0.760746  0.612742  0.872208  0.983059  0.981936"
      ]
     },
     "execution_count": 97,
     "metadata": {},
     "output_type": "execute_result"
    }
   ],
   "source": [
    "evaluation_df "
   ]
  },
  {
   "cell_type": "markdown",
   "id": "1bb2eee3-0327-4347-adc4-81cc110d4b9c",
   "metadata": {},
   "source": [
    "##### From the above metrics we see that the costfunctions MSE,MAR,RMSE have improved in LassoCV compared to Lasso but are still not as good as Linear regression. So we will see slightly more deviations in the predictions of LassoCV when compared to Linear regressor but still better than Lasso regressor. "
   ]
  },
  {
   "cell_type": "code",
   "execution_count": 87,
   "id": "2a1eed0e-ab4c-4f80-851b-e40b09c125e9",
   "metadata": {},
   "outputs": [
    {
     "data": {
      "text/plain": [
       "0.05255048566702248"
      ]
     },
     "execution_count": 87,
     "metadata": {},
     "output_type": "execute_result"
    }
   ],
   "source": [
    "# Hyperparameter value after tuning\n",
    "lasso_regessor_cv.alpha_"
   ]
  },
  {
   "cell_type": "code",
   "execution_count": 88,
   "id": "6230da27-005a-40f0-888a-e348516c174c",
   "metadata": {},
   "outputs": [
    {
     "data": {
      "text/plain": [
       "array([6.94686494, 6.47866949, 6.04202885, 5.63481633, 5.25504857,\n",
       "       4.90087588, 4.57057325, 4.26253191, 3.97525153, 3.70733288,\n",
       "       3.45747105, 3.22444907, 3.007132  , 2.80446136, 2.61545005,\n",
       "       2.43917747, 2.27478508, 2.12147218, 1.97849205, 1.84514831,\n",
       "       1.72079149, 1.6048159 , 1.49665668, 1.39578703, 1.30171566,\n",
       "       1.21398438, 1.13216589, 1.0558617 , 0.98470016, 0.91833466,\n",
       "       0.85644198, 0.79872066, 0.74488956, 0.69468649, 0.64786695,\n",
       "       0.60420289, 0.56348163, 0.52550486, 0.49008759, 0.45705732,\n",
       "       0.42625319, 0.39752515, 0.37073329, 0.3457471 , 0.32244491,\n",
       "       0.3007132 , 0.28044614, 0.26154501, 0.24391775, 0.22747851,\n",
       "       0.21214722, 0.19784921, 0.18451483, 0.17207915, 0.16048159,\n",
       "       0.14966567, 0.1395787 , 0.13017157, 0.12139844, 0.11321659,\n",
       "       0.10558617, 0.09847002, 0.09183347, 0.0856442 , 0.07987207,\n",
       "       0.07448896, 0.06946865, 0.06478669, 0.06042029, 0.05634816,\n",
       "       0.05255049, 0.04900876, 0.04570573, 0.04262532, 0.03975252,\n",
       "       0.03707333, 0.03457471, 0.03224449, 0.03007132, 0.02804461,\n",
       "       0.0261545 , 0.02439177, 0.02274785, 0.02121472, 0.01978492,\n",
       "       0.01845148, 0.01720791, 0.01604816, 0.01496657, 0.01395787,\n",
       "       0.01301716, 0.01213984, 0.01132166, 0.01055862, 0.009847  ,\n",
       "       0.00918335, 0.00856442, 0.00798721, 0.0074489 , 0.00694686])"
      ]
     },
     "execution_count": 88,
     "metadata": {},
     "output_type": "execute_result"
    }
   ],
   "source": [
    "# Hyperparameter values that were tested in CV\n",
    "lasso_regessor_cv.alphas_"
   ]
  },
  {
   "cell_type": "code",
   "execution_count": 89,
   "id": "05de7a25-c56f-4745-bf23-5672249d417b",
   "metadata": {},
   "outputs": [
    {
     "data": {
      "text/plain": [
       "array([-0.00000000e+00,  0.00000000e+00,  5.49259340e-02,  0.00000000e+00,\n",
       "       -5.09210036e-01,  3.74280672e+00,  4.59296602e+00,  2.82117251e-01,\n",
       "       -1.41009770e-15,  2.67978705e-01, -0.00000000e+00])"
      ]
     },
     "execution_count": 89,
     "metadata": {},
     "output_type": "execute_result"
    }
   ],
   "source": [
    "# Compare coeff of Lasso and LassoCV\n",
    "lasso_regessor_cv.coef_"
   ]
  },
  {
   "cell_type": "code",
   "execution_count": 90,
   "id": "4d5da6c9-a44b-4801-bc9a-afc7ee215679",
   "metadata": {},
   "outputs": [
    {
     "data": {
      "text/plain": [
       "array([ 0.        , -0.        ,  0.        , -0.        ,  0.        ,\n",
       "        3.12645633,  3.81190831,  0.        , -0.        ,  0.        ,\n",
       "       -0.        ])"
      ]
     },
     "execution_count": 90,
     "metadata": {},
     "output_type": "execute_result"
    }
   ],
   "source": [
    "lasso_regessor.coef_"
   ]
  },
  {
   "cell_type": "markdown",
   "id": "610df7d4-5bc7-4b3f-8e0c-05d8a52cb1ff",
   "metadata": {},
   "source": [
    "##### We see that coefficients that were set to 0 by lasso regressor were changed to some value closer to zero in Lasso CV regressor "
   ]
  },
  {
   "cell_type": "markdown",
   "id": "8843cc59-93ba-4dcc-a933-72e87035b340",
   "metadata": {},
   "source": [
    "## Ridge Regression Model"
   ]
  },
  {
   "cell_type": "code",
   "execution_count": 99,
   "id": "6122c44f-9ad9-4375-a4e5-3feeabb1581f",
   "metadata": {},
   "outputs": [],
   "source": [
    "ridge_regessor = Ridge(random_state=24)\n",
    "ridge_regessor.fit(X_train_scaled,y_train) \n",
    "y_pred_ridge = ridge_regessor.predict(X_test_scaled)\n",
    "mse_ridge = mean_squared_error(y_test,y_pred_ridge)\n",
    "mae_ridge = mean_absolute_error(y_test,y_pred_ridge)\n",
    "rmse_ridge = np.sqrt(mse_ridge)\n",
    "r2_ridge = r2_score(y_test,y_pred_ridge)\n",
    "r2_adj_ridge = 1 - ( (1-r2_ridge)*(len(X_train)-1) / ((len(X_train)-1) - X_train.shape[1] - 1) )"
   ]
  },
  {
   "cell_type": "code",
   "execution_count": 112,
   "id": "5b5d184f-a464-4fc2-847f-39c775a73c48",
   "metadata": {},
   "outputs": [
    {
     "data": {
      "text/plain": [
       "<matplotlib.collections.PathCollection at 0x7f2324af3250>"
      ]
     },
     "execution_count": 112,
     "metadata": {},
     "output_type": "execute_result"
    },
    {
     "data": {
      "image/png": "[encoded data removed]",
      "text/plain": [
       "<Figure size 640x480 with 1 Axes>"
      ]
     },
     "metadata": {},
     "output_type": "display_data"
    }
   ],
   "source": [
    "plt.scatter(y_test,y_pred_ridge)"
   ]
  },
  {
   "cell_type": "code",
   "execution_count": 105,
   "id": "8f948817-e77d-45bf-bc48-715e3a38125a",
   "metadata": {},
   "outputs": [],
   "source": [
    "evaluation_df.loc[len(evaluation_df.index)] = [\"Ridge Model\",mse_ridge,mae_ridge,rmse_ridge,r2_ridge,r2_adj_ridge]"
   ]
  },
  {
   "cell_type": "code",
   "execution_count": 107,
   "id": "8dea2666-28fa-4979-91b2-b6a99511aec3",
   "metadata": {},
   "outputs": [
    {
     "data": {
      "text/html": [
       "<div>\n",
       "<style scoped>\n",
       "    .dataframe tbody tr th:only-of-type {\n",
       "        vertical-align: middle;\n",
       "    }\n",
       "\n",
       "    .dataframe tbody tr th {\n",
       "        vertical-align: top;\n",
       "    }\n",
       "\n",
       "    .dataframe thead th {\n",
       "        text-align: right;\n",
       "    }\n",
       "</style>\n",
       "<table border=\"1\" class=\"dataframe\">\n",
       "  <thead>\n",
       "    <tr style=\"text-align: right;\">\n",
       "      <th></th>\n",
       "      <th>MODEL</th>\n",
       "      <th>MSE</th>\n",
       "      <th>MAE</th>\n",
       "      <th>RMSE</th>\n",
       "      <th>R2</th>\n",
       "      <th>R2_ADJ</th>\n",
       "    </tr>\n",
       "  </thead>\n",
       "  <tbody>\n",
       "    <tr>\n",
       "      <th>0</th>\n",
       "      <td>Linear Regression</td>\n",
       "      <td>0.683327</td>\n",
       "      <td>0.590878</td>\n",
       "      <td>0.826636</td>\n",
       "      <td>0.984783</td>\n",
       "      <td>0.983774</td>\n",
       "    </tr>\n",
       "    <tr>\n",
       "      <th>1</th>\n",
       "      <td>Lasso Model</td>\n",
       "      <td>2.457147</td>\n",
       "      <td>1.244030</td>\n",
       "      <td>1.567529</td>\n",
       "      <td>0.945282</td>\n",
       "      <td>0.941654</td>\n",
       "    </tr>\n",
       "    <tr>\n",
       "      <th>2</th>\n",
       "      <td>LassoCV Model</td>\n",
       "      <td>0.760746</td>\n",
       "      <td>0.612742</td>\n",
       "      <td>0.872208</td>\n",
       "      <td>0.983059</td>\n",
       "      <td>0.981936</td>\n",
       "    </tr>\n",
       "    <tr>\n",
       "      <th>3</th>\n",
       "      <td>Ridge Model</td>\n",
       "      <td>0.712705</td>\n",
       "      <td>0.607054</td>\n",
       "      <td>0.844219</td>\n",
       "      <td>0.984129</td>\n",
       "      <td>0.983077</td>\n",
       "    </tr>\n",
       "  </tbody>\n",
       "</table>\n",
       "</div>"
      ],
      "text/plain": [
       "               MODEL       MSE       MAE      RMSE        R2    R2_ADJ\n",
       "0  Linear Regression  0.683327  0.590878  0.826636  0.984783  0.983774\n",
       "1        Lasso Model  2.457147  1.244030  1.567529  0.945282  0.941654\n",
       "2      LassoCV Model  0.760746  0.612742  0.872208  0.983059  0.981936\n",
       "3        Ridge Model  0.712705  0.607054  0.844219  0.984129  0.983077"
      ]
     },
     "execution_count": 107,
     "metadata": {},
     "output_type": "execute_result"
    }
   ],
   "source": [
    "evaluation_df"
   ]
  },
  {
   "cell_type": "code",
   "execution_count": 110,
   "id": "3a46415f-c5fd-42fb-95bf-82f70ca16c79",
   "metadata": {},
   "outputs": [
    {
     "data": {
      "text/plain": [
       "1.0"
      ]
     },
     "execution_count": 110,
     "metadata": {},
     "output_type": "execute_result"
    }
   ],
   "source": [
    "ridge_regessor.alpha"
   ]
  },
  {
   "cell_type": "code",
   "execution_count": 108,
   "id": "91ff5673-aac0-4dd8-a830-0510a82511cc",
   "metadata": {},
   "outputs": [
    {
     "data": {
      "text/plain": [
       "array([[ 0.02055092, -0.15759253,  0.09813111, -0.04545688, -0.87919215,\n",
       "         3.80715035,  4.55244892,  0.18350614, -0.18350614,  0.25891682,\n",
       "        -0.25891682]])"
      ]
     },
     "execution_count": 108,
     "metadata": {},
     "output_type": "execute_result"
    }
   ],
   "source": [
    "ridge_regessor.coef_"
   ]
  },
  {
   "cell_type": "code",
   "execution_count": 109,
   "id": "a0404edb-4164-45e9-a000-23e0b4553ba0",
   "metadata": {},
   "outputs": [
    {
     "data": {
      "text/plain": [
       "array([[ 0.01583918, -0.13156567,  0.07939903, -0.04716001, -0.91352368,\n",
       "         3.82192002,  4.63505857,  0.18678201, -0.18678201,  0.24446228,\n",
       "        -0.24446228]])"
      ]
     },
     "execution_count": 109,
     "metadata": {},
     "output_type": "execute_result"
    }
   ],
   "source": [
    "linear_regressor.coef_"
   ]
  },
  {
   "cell_type": "markdown",
   "id": "c66c74d9-82bc-4de6-ab8e-2a29b31ce06e",
   "metadata": {},
   "source": [
    "##### From the above metrics we see that the Ridge is performing as good as linear regressor and better than Lasso and LassoCV. Here we have a fixed Hyperparameter alpha (Lambda) which is not optimized."
   ]
  },
  {
   "cell_type": "markdown",
   "id": "6107de9d-a5b5-4f1a-b634-d6910f43eabd",
   "metadata": {},
   "source": [
    "## Ridge Regression Model With Cross-Validation (Let's tune the Lambda hyperparameter)"
   ]
  },
  {
   "cell_type": "code",
   "execution_count": 115,
   "id": "83c253ce-0488-4399-86a2-9bc41bfd8a86",
   "metadata": {},
   "outputs": [],
   "source": [
    "ridge_regessor_cv = RidgeCV(cv=5)\n",
    "ridge_regessor_cv.fit(X_train_scaled,np.ravel(y_train)) \n",
    "y_pred_ridge_cv = ridge_regessor_cv.predict(X_test_scaled)\n",
    "mse_ridge_cv = mean_squared_error(y_test,y_pred_ridge_cv)\n",
    "mae_ridge_cv = mean_absolute_error(y_test,y_pred_ridge_cv)\n",
    "rmse_ridge_cv = np.sqrt(mse_ridge_cv)\n",
    "r2_ridge_cv = r2_score(y_test,y_pred_ridge_cv)\n",
    "r2_adj_ridge_cv = 1 - ( (1-r2_ridge_cv)*(len(X_train)-1) / ((len(X_train)-1) - X_train.shape[1] - 1) )"
   ]
  },
  {
   "cell_type": "code",
   "execution_count": 116,
   "id": "09f4006c-d2fb-42d7-9312-c0b2471e09b2",
   "metadata": {},
   "outputs": [
    {
     "data": {
      "text/plain": [
       "<matplotlib.collections.PathCollection at 0x7f2323d5c8b0>"
      ]
     },
     "execution_count": 116,
     "metadata": {},
     "output_type": "execute_result"
    },
    {
     "data": {
      "image/png": "[encoded data removed]",
      "text/plain": [
       "<Figure size 640x480 with 1 Axes>"
      ]
     },
     "metadata": {},
     "output_type": "display_data"
    }
   ],
   "source": [
    "plt.scatter(y_test,y_pred_ridge_cv)"
   ]
  },
  {
   "cell_type": "code",
   "execution_count": 117,
   "id": "27a1dd88-c76d-4d01-9af1-271762d6561c",
   "metadata": {},
   "outputs": [],
   "source": [
    "evaluation_df.loc[len(evaluation_df.index)] = [\"RidgeCV Model\",mse_ridge_cv,mae_ridge_cv,rmse_ridge_cv,r2_ridge_cv,r2_adj_ridge_cv]"
   ]
  },
  {
   "cell_type": "code",
   "execution_count": 118,
   "id": "01c5070f-fd38-4afd-bcf4-6b5b949c0f8f",
   "metadata": {},
   "outputs": [
    {
     "data": {
      "text/html": [
       "<div>\n",
       "<style scoped>\n",
       "    .dataframe tbody tr th:only-of-type {\n",
       "        vertical-align: middle;\n",
       "    }\n",
       "\n",
       "    .dataframe tbody tr th {\n",
       "        vertical-align: top;\n",
       "    }\n",
       "\n",
       "    .dataframe thead th {\n",
       "        text-align: right;\n",
       "    }\n",
       "</style>\n",
       "<table border=\"1\" class=\"dataframe\">\n",
       "  <thead>\n",
       "    <tr style=\"text-align: right;\">\n",
       "      <th></th>\n",
       "      <th>MODEL</th>\n",
       "      <th>MSE</th>\n",
       "      <th>MAE</th>\n",
       "      <th>RMSE</th>\n",
       "      <th>R2</th>\n",
       "      <th>R2_ADJ</th>\n",
       "    </tr>\n",
       "  </thead>\n",
       "  <tbody>\n",
       "    <tr>\n",
       "      <th>0</th>\n",
       "      <td>Linear Regression</td>\n",
       "      <td>0.683327</td>\n",
       "      <td>0.590878</td>\n",
       "      <td>0.826636</td>\n",
       "      <td>0.984783</td>\n",
       "      <td>0.983774</td>\n",
       "    </tr>\n",
       "    <tr>\n",
       "      <th>1</th>\n",
       "      <td>Lasso Model</td>\n",
       "      <td>2.457147</td>\n",
       "      <td>1.244030</td>\n",
       "      <td>1.567529</td>\n",
       "      <td>0.945282</td>\n",
       "      <td>0.941654</td>\n",
       "    </tr>\n",
       "    <tr>\n",
       "      <th>2</th>\n",
       "      <td>LassoCV Model</td>\n",
       "      <td>0.760746</td>\n",
       "      <td>0.612742</td>\n",
       "      <td>0.872208</td>\n",
       "      <td>0.983059</td>\n",
       "      <td>0.981936</td>\n",
       "    </tr>\n",
       "    <tr>\n",
       "      <th>3</th>\n",
       "      <td>Ridge Model</td>\n",
       "      <td>0.712705</td>\n",
       "      <td>0.607054</td>\n",
       "      <td>0.844219</td>\n",
       "      <td>0.984129</td>\n",
       "      <td>0.983077</td>\n",
       "    </tr>\n",
       "    <tr>\n",
       "      <th>4</th>\n",
       "      <td>RidgeCV Model</td>\n",
       "      <td>0.712705</td>\n",
       "      <td>0.607054</td>\n",
       "      <td>0.844219</td>\n",
       "      <td>0.984129</td>\n",
       "      <td>0.983077</td>\n",
       "    </tr>\n",
       "  </tbody>\n",
       "</table>\n",
       "</div>"
      ],
      "text/plain": [
       "               MODEL       MSE       MAE      RMSE        R2    R2_ADJ\n",
       "0  Linear Regression  0.683327  0.590878  0.826636  0.984783  0.983774\n",
       "1        Lasso Model  2.457147  1.244030  1.567529  0.945282  0.941654\n",
       "2      LassoCV Model  0.760746  0.612742  0.872208  0.983059  0.981936\n",
       "3        Ridge Model  0.712705  0.607054  0.844219  0.984129  0.983077\n",
       "4      RidgeCV Model  0.712705  0.607054  0.844219  0.984129  0.983077"
      ]
     },
     "execution_count": 118,
     "metadata": {},
     "output_type": "execute_result"
    }
   ],
   "source": [
    "evaluation_df"
   ]
  },
  {
   "cell_type": "code",
   "execution_count": 120,
   "id": "f42638a7-611d-4e43-91b6-9a8c8ba39973",
   "metadata": {},
   "outputs": [
    {
     "data": {
      "text/plain": [
       "1.0"
      ]
     },
     "execution_count": 120,
     "metadata": {},
     "output_type": "execute_result"
    }
   ],
   "source": [
    "ridge_regessor_cv.alpha_"
   ]
  },
  {
   "cell_type": "code",
   "execution_count": 121,
   "id": "ad687e5b-5248-45ec-85a9-b063dcbac328",
   "metadata": {},
   "outputs": [
    {
     "data": {
      "text/plain": [
       "(0.1, 1.0, 10.0)"
      ]
     },
     "execution_count": 121,
     "metadata": {},
     "output_type": "execute_result"
    }
   ],
   "source": [
    "ridge_regessor_cv.alphas"
   ]
  },
  {
   "cell_type": "markdown",
   "id": "bec6b3e5-c843-4646-bd89-01b741a1b7f2",
   "metadata": {},
   "source": [
    "##### The alpha of RidgeCV and Ride are 1 hence we end up with same scores"
   ]
  },
  {
   "cell_type": "code",
   "execution_count": 128,
   "id": "5160d242-49d7-458f-809f-8958dbe3f3ed",
   "metadata": {},
   "outputs": [],
   "source": [
    "#Lets try it again with better set of alphas to choose from\n",
    "custom_alphas = np.linspace(0.1,5,100)"
   ]
  },
  {
   "cell_type": "code",
   "execution_count": 139,
   "id": "46d9cde8-bb70-46ab-bbad-7d38088bd6f6",
   "metadata": {},
   "outputs": [],
   "source": [
    "ridge_regessor_cv = RidgeCV(cv=5,alphas=custom_alphas)\n",
    "ridge_regessor_cv.fit(X_train_scaled,np.ravel(y_train)) \n",
    "y_pred_ridge_cv = ridge_regessor_cv.predict(X_test_scaled)\n",
    "mse_ridge_cv2 = mean_squared_error(y_test,y_pred_ridge_cv)\n",
    "mae_ridge_cv2 = mean_absolute_error(y_test,y_pred_ridge_cv)\n",
    "rmse_ridge_cv2 = np.sqrt(mse_ridge_cv2)\n",
    "r2_ridge_cv2 = r2_score(y_test,y_pred_ridge_cv)\n",
    "r2_adj_ridge_cv2 = 1 - ( (1-r2_ridge_cv)*(len(X_train)-1) / ((len(X_train)-1) - X_train.shape[1] - 1) )"
   ]
  },
  {
   "cell_type": "code",
   "execution_count": 140,
   "id": "07890e1b-97ff-4453-a622-41423143ef51",
   "metadata": {},
   "outputs": [
    {
     "data": {
      "text/plain": [
       "3.663636363636364"
      ]
     },
     "execution_count": 140,
     "metadata": {},
     "output_type": "execute_result"
    }
   ],
   "source": [
    "ridge_regessor_cv.alpha_"
   ]
  },
  {
   "cell_type": "code",
   "execution_count": 141,
   "id": "12dc48e8-478f-429d-be1b-aa933b2c8a08",
   "metadata": {},
   "outputs": [
    {
     "data": {
      "text/plain": [
       "array([0.1       , 0.14949495, 0.1989899 , 0.24848485, 0.2979798 ,\n",
       "       0.34747475, 0.3969697 , 0.44646465, 0.4959596 , 0.54545455,\n",
       "       0.59494949, 0.64444444, 0.69393939, 0.74343434, 0.79292929,\n",
       "       0.84242424, 0.89191919, 0.94141414, 0.99090909, 1.04040404,\n",
       "       1.08989899, 1.13939394, 1.18888889, 1.23838384, 1.28787879,\n",
       "       1.33737374, 1.38686869, 1.43636364, 1.48585859, 1.53535354,\n",
       "       1.58484848, 1.63434343, 1.68383838, 1.73333333, 1.78282828,\n",
       "       1.83232323, 1.88181818, 1.93131313, 1.98080808, 2.03030303,\n",
       "       2.07979798, 2.12929293, 2.17878788, 2.22828283, 2.27777778,\n",
       "       2.32727273, 2.37676768, 2.42626263, 2.47575758, 2.52525253,\n",
       "       2.57474747, 2.62424242, 2.67373737, 2.72323232, 2.77272727,\n",
       "       2.82222222, 2.87171717, 2.92121212, 2.97070707, 3.02020202,\n",
       "       3.06969697, 3.11919192, 3.16868687, 3.21818182, 3.26767677,\n",
       "       3.31717172, 3.36666667, 3.41616162, 3.46565657, 3.51515152,\n",
       "       3.56464646, 3.61414141, 3.66363636, 3.71313131, 3.76262626,\n",
       "       3.81212121, 3.86161616, 3.91111111, 3.96060606, 4.01010101,\n",
       "       4.05959596, 4.10909091, 4.15858586, 4.20808081, 4.25757576,\n",
       "       4.30707071, 4.35656566, 4.40606061, 4.45555556, 4.50505051,\n",
       "       4.55454545, 4.6040404 , 4.65353535, 4.7030303 , 4.75252525,\n",
       "       4.8020202 , 4.85151515, 4.9010101 , 4.95050505, 5.        ])"
      ]
     },
     "execution_count": 141,
     "metadata": {},
     "output_type": "execute_result"
    }
   ],
   "source": [
    "ridge_regessor_cv.alphas"
   ]
  },
  {
   "cell_type": "code",
   "execution_count": 146,
   "id": "3176d1c2-32bc-4ca7-8de3-149e8f4a530e",
   "metadata": {},
   "outputs": [],
   "source": [
    "evaluation_df.loc[len(evaluation_df.index)] = [\"RidgeCV Model with custom alpha set\",mse_ridge_cv2,mae_ridge_cv2,rmse_ridge_cv2,r2_ridge_cv2,r2_adj_ridge_cv2]"
   ]
  },
  {
   "cell_type": "code",
   "execution_count": 147,
   "id": "f2e6139c-72c1-422b-8c9f-62398234e991",
   "metadata": {},
   "outputs": [
    {
     "data": {
      "text/html": [
       "<div>\n",
       "<style scoped>\n",
       "    .dataframe tbody tr th:only-of-type {\n",
       "        vertical-align: middle;\n",
       "    }\n",
       "\n",
       "    .dataframe tbody tr th {\n",
       "        vertical-align: top;\n",
       "    }\n",
       "\n",
       "    .dataframe thead th {\n",
       "        text-align: right;\n",
       "    }\n",
       "</style>\n",
       "<table border=\"1\" class=\"dataframe\">\n",
       "  <thead>\n",
       "    <tr style=\"text-align: right;\">\n",
       "      <th></th>\n",
       "      <th>MODEL</th>\n",
       "      <th>MSE</th>\n",
       "      <th>MAE</th>\n",
       "      <th>RMSE</th>\n",
       "      <th>R2</th>\n",
       "      <th>R2_ADJ</th>\n",
       "    </tr>\n",
       "  </thead>\n",
       "  <tbody>\n",
       "    <tr>\n",
       "      <th>0</th>\n",
       "      <td>Linear Regression</td>\n",
       "      <td>0.683327</td>\n",
       "      <td>0.590878</td>\n",
       "      <td>0.826636</td>\n",
       "      <td>0.984783</td>\n",
       "      <td>0.983774</td>\n",
       "    </tr>\n",
       "    <tr>\n",
       "      <th>1</th>\n",
       "      <td>Lasso Model</td>\n",
       "      <td>2.457147</td>\n",
       "      <td>1.244030</td>\n",
       "      <td>1.567529</td>\n",
       "      <td>0.945282</td>\n",
       "      <td>0.941654</td>\n",
       "    </tr>\n",
       "    <tr>\n",
       "      <th>2</th>\n",
       "      <td>LassoCV Model</td>\n",
       "      <td>0.760746</td>\n",
       "      <td>0.612742</td>\n",
       "      <td>0.872208</td>\n",
       "      <td>0.983059</td>\n",
       "      <td>0.981936</td>\n",
       "    </tr>\n",
       "    <tr>\n",
       "      <th>3</th>\n",
       "      <td>Ridge Model</td>\n",
       "      <td>0.712705</td>\n",
       "      <td>0.607054</td>\n",
       "      <td>0.844219</td>\n",
       "      <td>0.984129</td>\n",
       "      <td>0.983077</td>\n",
       "    </tr>\n",
       "    <tr>\n",
       "      <th>4</th>\n",
       "      <td>RidgeCV Model</td>\n",
       "      <td>0.712705</td>\n",
       "      <td>0.607054</td>\n",
       "      <td>0.844219</td>\n",
       "      <td>0.984129</td>\n",
       "      <td>0.983077</td>\n",
       "    </tr>\n",
       "    <tr>\n",
       "      <th>5</th>\n",
       "      <td>RidgeCV Model with custom alpha set</td>\n",
       "      <td>0.802879</td>\n",
       "      <td>0.654481</td>\n",
       "      <td>0.896035</td>\n",
       "      <td>0.982121</td>\n",
       "      <td>0.980935</td>\n",
       "    </tr>\n",
       "  </tbody>\n",
       "</table>\n",
       "</div>"
      ],
      "text/plain": [
       "                                 MODEL       MSE       MAE      RMSE  \\\n",
       "0                    Linear Regression  0.683327  0.590878  0.826636   \n",
       "1                          Lasso Model  2.457147  1.244030  1.567529   \n",
       "2                        LassoCV Model  0.760746  0.612742  0.872208   \n",
       "3                          Ridge Model  0.712705  0.607054  0.844219   \n",
       "4                        RidgeCV Model  0.712705  0.607054  0.844219   \n",
       "5  RidgeCV Model with custom alpha set  0.802879  0.654481  0.896035   \n",
       "\n",
       "         R2    R2_ADJ  \n",
       "0  0.984783  0.983774  \n",
       "1  0.945282  0.941654  \n",
       "2  0.983059  0.981936  \n",
       "3  0.984129  0.983077  \n",
       "4  0.984129  0.983077  \n",
       "5  0.982121  0.980935  "
      ]
     },
     "execution_count": 147,
     "metadata": {},
     "output_type": "execute_result"
    }
   ],
   "source": [
    "evaluation_df"
   ]
  },
  {
   "cell_type": "markdown",
   "id": "480a9fa2-5796-4d68-91fe-962ce657e301",
   "metadata": {},
   "source": [
    "##### From the above metrics we see that the RidgeCV is performing a alightly worse than Ridge regressor this could be because it is generalizing more to avoid overfitting of the model"
   ]
  },
  {
   "cell_type": "markdown",
   "id": "d93cc798-7c4b-4657-a291-d9fcae3bb528",
   "metadata": {},
   "source": [
    "## Elastic Net Regression"
   ]
  },
  {
   "cell_type": "code",
   "execution_count": 162,
   "id": "3901e25a-3a26-441c-8975-372665d8340c",
   "metadata": {},
   "outputs": [],
   "source": [
    "elastic_regressor = ElasticNet()\n",
    "elastic_regressor.fit(X_train_scaled,y_train) \n",
    "y_pred_elastic = elastic_regessor.predict(X_test_scaled)\n",
    "mse_elastic = mean_squared_error(y_test,y_pred_elastic)\n",
    "mae_elastic = mean_absolute_error(y_test,y_pred_elastic)\n",
    "rmse_elastic = np.sqrt(mse_elastic)\n",
    "r2_elastic = r2_score(y_test,y_pred_elastic)\n",
    "r2_adj_elastic = 1 - ( (1-r2_ridge_elastic)*(len(X_train)-1) / ((len(X_train)-1) - X_train.shape[1] - 1) )"
   ]
  },
  {
   "cell_type": "code",
   "execution_count": 163,
   "id": "e2bf5ed6-99b8-4f21-a5fb-e68ad663d9c4",
   "metadata": {},
   "outputs": [
    {
     "data": {
      "text/plain": [
       "<matplotlib.collections.PathCollection at 0x7f2322f690c0>"
      ]
     },
     "execution_count": 163,
     "metadata": {},
     "output_type": "execute_result"
    },
    {
     "data": {
      "image/png": "[encoded data removed]",
      "text/plain": [
       "<Figure size 640x480 with 1 Axes>"
      ]
     },
     "metadata": {},
     "output_type": "display_data"
    }
   ],
   "source": [
    "plt.scatter(y_test,y_pred_elastic)"
   ]
  },
  {
   "cell_type": "markdown",
   "id": "c786b6f1-3424-45a5-ae3b-68178252edf0",
   "metadata": {},
   "source": [
    "##### From the plot between preditions and actuals it seems the relation may not be linear as there is a slight curve forming"
   ]
  },
  {
   "cell_type": "code",
   "execution_count": 169,
   "id": "84df72f8-e5d0-4a93-b49b-ebd55831c006",
   "metadata": {},
   "outputs": [
    {
     "data": {
      "text/plain": [
       "{'alpha': 1.0,\n",
       " 'copy_X': True,\n",
       " 'fit_intercept': True,\n",
       " 'l1_ratio': 0.5,\n",
       " 'max_iter': 1000,\n",
       " 'positive': False,\n",
       " 'precompute': False,\n",
       " 'random_state': None,\n",
       " 'selection': 'cyclic',\n",
       " 'tol': 0.0001,\n",
       " 'warm_start': False}"
      ]
     },
     "execution_count": 169,
     "metadata": {},
     "output_type": "execute_result"
    }
   ],
   "source": [
    "elastic_regressor.get_params()"
   ]
  },
  {
   "cell_type": "code",
   "execution_count": 165,
   "id": "e807577a-931b-467a-a622-a7e15cee7b00",
   "metadata": {},
   "outputs": [
    {
     "data": {
      "text/plain": [
       "array([ 0.13658441, -0.34774294,  0.05066243, -0.        ,  0.23459115,\n",
       "        2.42797943,  2.28901626, -0.        ,  0.        ,  0.58075595,\n",
       "       -0.5806088 ])"
      ]
     },
     "execution_count": 165,
     "metadata": {},
     "output_type": "execute_result"
    }
   ],
   "source": [
    "elastic_regressor.coef_"
   ]
  },
  {
   "cell_type": "code",
   "execution_count": 166,
   "id": "af5b2646-a5fe-4194-b273-76dc537bc43d",
   "metadata": {},
   "outputs": [],
   "source": [
    "evaluation_df.loc[len(evaluation_df.index)] = [\"Elastic Net Model\",mse_elastic,mae_elastic,rmse_elastic,r2_elastic,r2_elastic]"
   ]
  },
  {
   "cell_type": "code",
   "execution_count": 167,
   "id": "ab5fa198-63c1-418e-a6bb-0fcb7a7e0306",
   "metadata": {},
   "outputs": [
    {
     "data": {
      "text/html": [
       "<div>\n",
       "<style scoped>\n",
       "    .dataframe tbody tr th:only-of-type {\n",
       "        vertical-align: middle;\n",
       "    }\n",
       "\n",
       "    .dataframe tbody tr th {\n",
       "        vertical-align: top;\n",
       "    }\n",
       "\n",
       "    .dataframe thead th {\n",
       "        text-align: right;\n",
       "    }\n",
       "</style>\n",
       "<table border=\"1\" class=\"dataframe\">\n",
       "  <thead>\n",
       "    <tr style=\"text-align: right;\">\n",
       "      <th></th>\n",
       "      <th>MODEL</th>\n",
       "      <th>MSE</th>\n",
       "      <th>MAE</th>\n",
       "      <th>RMSE</th>\n",
       "      <th>R2</th>\n",
       "      <th>R2_ADJ</th>\n",
       "    </tr>\n",
       "  </thead>\n",
       "  <tbody>\n",
       "    <tr>\n",
       "      <th>0</th>\n",
       "      <td>Linear Regression</td>\n",
       "      <td>0.683327</td>\n",
       "      <td>0.590878</td>\n",
       "      <td>0.826636</td>\n",
       "      <td>0.984783</td>\n",
       "      <td>0.983774</td>\n",
       "    </tr>\n",
       "    <tr>\n",
       "      <th>1</th>\n",
       "      <td>Lasso Model</td>\n",
       "      <td>2.457147</td>\n",
       "      <td>1.244030</td>\n",
       "      <td>1.567529</td>\n",
       "      <td>0.945282</td>\n",
       "      <td>0.941654</td>\n",
       "    </tr>\n",
       "    <tr>\n",
       "      <th>2</th>\n",
       "      <td>LassoCV Model</td>\n",
       "      <td>0.760746</td>\n",
       "      <td>0.612742</td>\n",
       "      <td>0.872208</td>\n",
       "      <td>0.983059</td>\n",
       "      <td>0.981936</td>\n",
       "    </tr>\n",
       "    <tr>\n",
       "      <th>3</th>\n",
       "      <td>Ridge Model</td>\n",
       "      <td>0.712705</td>\n",
       "      <td>0.607054</td>\n",
       "      <td>0.844219</td>\n",
       "      <td>0.984129</td>\n",
       "      <td>0.983077</td>\n",
       "    </tr>\n",
       "    <tr>\n",
       "      <th>4</th>\n",
       "      <td>RidgeCV Model</td>\n",
       "      <td>0.712705</td>\n",
       "      <td>0.607054</td>\n",
       "      <td>0.844219</td>\n",
       "      <td>0.984129</td>\n",
       "      <td>0.983077</td>\n",
       "    </tr>\n",
       "    <tr>\n",
       "      <th>5</th>\n",
       "      <td>RidgeCV Model with custom alpha set</td>\n",
       "      <td>0.802879</td>\n",
       "      <td>0.654481</td>\n",
       "      <td>0.896035</td>\n",
       "      <td>0.982121</td>\n",
       "      <td>0.980935</td>\n",
       "    </tr>\n",
       "    <tr>\n",
       "      <th>6</th>\n",
       "      <td>Elastic Net Model</td>\n",
       "      <td>5.081716</td>\n",
       "      <td>1.777925</td>\n",
       "      <td>2.254266</td>\n",
       "      <td>0.886836</td>\n",
       "      <td>0.886836</td>\n",
       "    </tr>\n",
       "  </tbody>\n",
       "</table>\n",
       "</div>"
      ],
      "text/plain": [
       "                                 MODEL       MSE       MAE      RMSE  \\\n",
       "0                    Linear Regression  0.683327  0.590878  0.826636   \n",
       "1                          Lasso Model  2.457147  1.244030  1.567529   \n",
       "2                        LassoCV Model  0.760746  0.612742  0.872208   \n",
       "3                          Ridge Model  0.712705  0.607054  0.844219   \n",
       "4                        RidgeCV Model  0.712705  0.607054  0.844219   \n",
       "5  RidgeCV Model with custom alpha set  0.802879  0.654481  0.896035   \n",
       "6                    Elastic Net Model  5.081716  1.777925  2.254266   \n",
       "\n",
       "         R2    R2_ADJ  \n",
       "0  0.984783  0.983774  \n",
       "1  0.945282  0.941654  \n",
       "2  0.983059  0.981936  \n",
       "3  0.984129  0.983077  \n",
       "4  0.984129  0.983077  \n",
       "5  0.982121  0.980935  \n",
       "6  0.886836  0.886836  "
      ]
     },
     "execution_count": 167,
     "metadata": {},
     "output_type": "execute_result"
    }
   ],
   "source": [
    "evaluation_df"
   ]
  },
  {
   "cell_type": "markdown",
   "id": "7468b18f-983c-45de-8f09-78319036ca2e",
   "metadata": {},
   "source": [
    "## Elastic Net Regression with Cross Validation"
   ]
  },
  {
   "cell_type": "code",
   "execution_count": 173,
   "id": "7160cd6c-1946-4b7e-b62d-2f2629b931dc",
   "metadata": {},
   "outputs": [],
   "source": [
    "elastic_regressor_cv = ElasticNetCV(cv=5,random_state=24)\n",
    "elastic_regressor_cv.fit(X_train_scaled,np.ravel(y_train)) \n",
    "y_pred_elastic_cv = elastic_regressor_cv.predict(X_test_scaled)\n",
    "mse_elastic_cv = mean_squared_error(y_test,y_pred_elastic_cv)\n",
    "mae_elastic_cv = mean_absolute_error(y_test,y_pred_elastic_cv)\n",
    "rmse_elastic_cv = np.sqrt(mse_elastic_cv)\n",
    "r2_elastic_cv = r2_score(y_test,y_pred_elastic_cv)\n",
    "r2_adj_elastic_cv = 1 - ( (1-r2_elastic_cv)*(len(X_train)-1) / ((len(X_train)-1) - X_train.shape[1] - 1) )"
   ]
  },
  {
   "cell_type": "code",
   "execution_count": 174,
   "id": "2ca078c8-b660-4277-a5f8-4a30542d4dc5",
   "metadata": {},
   "outputs": [
    {
     "data": {
      "text/plain": [
       "<matplotlib.collections.PathCollection at 0x7f2322e7a380>"
      ]
     },
     "execution_count": 174,
     "metadata": {},
     "output_type": "execute_result"
    },
    {
     "data": {
      "image/png": "[encoded data removed]",
      "text/plain": [
       "<Figure size 640x480 with 1 Axes>"
      ]
     },
     "metadata": {},
     "output_type": "display_data"
    }
   ],
   "source": [
    "plt.scatter(y_test,y_pred_elastic_cv)"
   ]
  },
  {
   "cell_type": "code",
   "execution_count": 175,
   "id": "8c601947",
   "metadata": {},
   "outputs": [
    {
     "data": {
      "text/plain": [
       "{'alphas': None,\n",
       " 'copy_X': True,\n",
       " 'cv': 5,\n",
       " 'eps': 0.001,\n",
       " 'fit_intercept': True,\n",
       " 'l1_ratio': 0.5,\n",
       " 'max_iter': 1000,\n",
       " 'n_alphas': 100,\n",
       " 'n_jobs': None,\n",
       " 'positive': False,\n",
       " 'precompute': 'auto',\n",
       " 'random_state': 24,\n",
       " 'selection': 'cyclic',\n",
       " 'tol': 0.0001,\n",
       " 'verbose': 0}"
      ]
     },
     "execution_count": 175,
     "metadata": {},
     "output_type": "execute_result"
    }
   ],
   "source": [
    "elastic_regressor_cv.get_params()"
   ]
  },
  {
   "cell_type": "code",
   "execution_count": 178,
   "id": "3de5f8a3",
   "metadata": {},
   "outputs": [
    {
     "data": {
      "text/plain": [
       "0.045495701531503396"
      ]
     },
     "execution_count": 178,
     "metadata": {},
     "output_type": "execute_result"
    }
   ],
   "source": [
    "elastic_regressor_cv.alpha_"
   ]
  },
  {
   "cell_type": "code",
   "execution_count": 176,
   "id": "650615ae-9b67-4075-8f46-c05e65c6086b",
   "metadata": {},
   "outputs": [
    {
     "data": {
      "text/plain": [
       "array([ 0.        , -0.12047063,  0.12538475, -0.        , -0.55577247,\n",
       "        3.71582124,  4.32856307,  0.14969935, -0.1439124 ,  0.2555993 ,\n",
       "       -0.23824498])"
      ]
     },
     "execution_count": 176,
     "metadata": {},
     "output_type": "execute_result"
    }
   ],
   "source": [
    "elastic_regressor_cv.coef_"
   ]
  },
  {
   "cell_type": "code",
   "execution_count": 177,
   "id": "e53e2271-953c-4ff1-b9c0-11aa5dae9a82",
   "metadata": {},
   "outputs": [],
   "source": [
    "evaluation_df.loc[len(evaluation_df.index)] = [\"Elastic NetCV Model\",mse_elastic_cv,mae_elastic_cv,rmse_elastic_cv,r2_elastic_cv,r2_elastic_cv]"
   ]
  },
  {
   "cell_type": "code",
   "execution_count": 179,
   "id": "7e34f28f-7e99-42db-af97-b680597df65a",
   "metadata": {
    "scrolled": true
   },
   "outputs": [
    {
     "data": {
      "text/html": [
       "<div>\n",
       "<style scoped>\n",
       "    .dataframe tbody tr th:only-of-type {\n",
       "        vertical-align: middle;\n",
       "    }\n",
       "\n",
       "    .dataframe tbody tr th {\n",
       "        vertical-align: top;\n",
       "    }\n",
       "\n",
       "    .dataframe thead th {\n",
       "        text-align: right;\n",
       "    }\n",
       "</style>\n",
       "<table border=\"1\" class=\"dataframe\">\n",
       "  <thead>\n",
       "    <tr style=\"text-align: right;\">\n",
       "      <th></th>\n",
       "      <th>MODEL</th>\n",
       "      <th>MSE</th>\n",
       "      <th>MAE</th>\n",
       "      <th>RMSE</th>\n",
       "      <th>R2</th>\n",
       "      <th>R2_ADJ</th>\n",
       "    </tr>\n",
       "  </thead>\n",
       "  <tbody>\n",
       "    <tr>\n",
       "      <th>0</th>\n",
       "      <td>Linear Regression</td>\n",
       "      <td>0.683327</td>\n",
       "      <td>0.590878</td>\n",
       "      <td>0.826636</td>\n",
       "      <td>0.984783</td>\n",
       "      <td>0.983774</td>\n",
       "    </tr>\n",
       "    <tr>\n",
       "      <th>1</th>\n",
       "      <td>Lasso Model</td>\n",
       "      <td>2.457147</td>\n",
       "      <td>1.244030</td>\n",
       "      <td>1.567529</td>\n",
       "      <td>0.945282</td>\n",
       "      <td>0.941654</td>\n",
       "    </tr>\n",
       "    <tr>\n",
       "      <th>2</th>\n",
       "      <td>LassoCV Model</td>\n",
       "      <td>0.760746</td>\n",
       "      <td>0.612742</td>\n",
       "      <td>0.872208</td>\n",
       "      <td>0.983059</td>\n",
       "      <td>0.981936</td>\n",
       "    </tr>\n",
       "    <tr>\n",
       "      <th>3</th>\n",
       "      <td>Ridge Model</td>\n",
       "      <td>0.712705</td>\n",
       "      <td>0.607054</td>\n",
       "      <td>0.844219</td>\n",
       "      <td>0.984129</td>\n",
       "      <td>0.983077</td>\n",
       "    </tr>\n",
       "    <tr>\n",
       "      <th>4</th>\n",
       "      <td>RidgeCV Model</td>\n",
       "      <td>0.712705</td>\n",
       "      <td>0.607054</td>\n",
       "      <td>0.844219</td>\n",
       "      <td>0.984129</td>\n",
       "      <td>0.983077</td>\n",
       "    </tr>\n",
       "    <tr>\n",
       "      <th>5</th>\n",
       "      <td>RidgeCV Model with custom alpha set</td>\n",
       "      <td>0.802879</td>\n",
       "      <td>0.654481</td>\n",
       "      <td>0.896035</td>\n",
       "      <td>0.982121</td>\n",
       "      <td>0.980935</td>\n",
       "    </tr>\n",
       "    <tr>\n",
       "      <th>6</th>\n",
       "      <td>Elastic Net Model</td>\n",
       "      <td>5.081716</td>\n",
       "      <td>1.777925</td>\n",
       "      <td>2.254266</td>\n",
       "      <td>0.886836</td>\n",
       "      <td>0.886836</td>\n",
       "    </tr>\n",
       "    <tr>\n",
       "      <th>7</th>\n",
       "      <td>Elastic NetCV Model</td>\n",
       "      <td>0.863955</td>\n",
       "      <td>0.670165</td>\n",
       "      <td>0.929492</td>\n",
       "      <td>0.980761</td>\n",
       "      <td>0.980761</td>\n",
       "    </tr>\n",
       "  </tbody>\n",
       "</table>\n",
       "</div>"
      ],
      "text/plain": [
       "                                 MODEL       MSE       MAE      RMSE  \\\n",
       "0                    Linear Regression  0.683327  0.590878  0.826636   \n",
       "1                          Lasso Model  2.457147  1.244030  1.567529   \n",
       "2                        LassoCV Model  0.760746  0.612742  0.872208   \n",
       "3                          Ridge Model  0.712705  0.607054  0.844219   \n",
       "4                        RidgeCV Model  0.712705  0.607054  0.844219   \n",
       "5  RidgeCV Model with custom alpha set  0.802879  0.654481  0.896035   \n",
       "6                    Elastic Net Model  5.081716  1.777925  2.254266   \n",
       "7                  Elastic NetCV Model  0.863955  0.670165  0.929492   \n",
       "\n",
       "         R2    R2_ADJ  \n",
       "0  0.984783  0.983774  \n",
       "1  0.945282  0.941654  \n",
       "2  0.983059  0.981936  \n",
       "3  0.984129  0.983077  \n",
       "4  0.984129  0.983077  \n",
       "5  0.982121  0.980935  \n",
       "6  0.886836  0.886836  \n",
       "7  0.980761  0.980761  "
      ]
     },
     "execution_count": 179,
     "metadata": {},
     "output_type": "execute_result"
    }
   ],
   "source": [
    "evaluation_df"
   ]
  },
  {
   "cell_type": "code",
   "execution_count": 181,
   "id": "9388418e-62c9-409b-b7ed-7b91405f1aa4",
   "metadata": {},
   "outputs": [],
   "source": [
    "import pickle\n",
    "pickle.dump(scaler,open('Algerian_fires_scaler.pkl','wb'))\n",
    "pickle.dump(linear_regressor,open('Algerian_fires_linear.pkl','wb'))\n",
    "pickle.dump(ridge_regessor_cv,open('Algerian_fires_ridgecv.pkl','wb'))"
   ]
  },
  {
   "cell_type": "code",
   "execution_count": null,
   "id": "46325bea-95a4-48b7-a204-74d045be4bcb",
   "metadata": {},
   "outputs": [],
   "source": []
  }
 ],
 "metadata": {
  "kernelspec": {
   "display_name": "Python 3 (ipykernel)",
   "language": "python",
   "name": "python3"
  },
  "language_info": {
   "codemirror_mode": {
    "name": "ipython",
    "version": 3
   },
   "file_extension": ".py",
   "mimetype": "text/x-python",
   "name": "python",
   "nbconvert_exporter": "python",
   "pygments_lexer": "ipython3",
   "version": "3.10.6"
  }
 },
 "nbformat": 4,
 "nbformat_minor": 5
}
